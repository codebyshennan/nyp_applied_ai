{
  "cells": [
    {
      "cell_type": "markdown",
      "metadata": {
        "id": "lp4wwtPPyX4j"
      },
      "source": [
        "# The map(), filter(), reduce(), zip() and Lambda() funcion in Python\n",
        "> Some straightforward example to explain the function's glegance\n",
        "\n",
        "- toc: true \n",
        "- badges: true\n",
        "- comments: true\n",
        "- categories: [Python]\n"
      ]
    },
    {
      "cell_type": "markdown",
      "metadata": {
        "id": "bP4rc7agyX4m"
      },
      "source": [
        "# About\n",
        "\n",
        "Today I would like to share some straightforward example of these important built-in functions in Python: \n",
        "* [map](https://docs.python.org/3.7/library/functions.html#map)\n",
        "* [filter](https://docs.python.org/3.7/library/functions.html#filter)\n",
        "* [reduce](https://docs.python.org/3.7/library/functools.html)\n",
        "* [zip](https://docs.python.org/3.7/library/functions.html#zip)\n",
        "* [lambda](https://docs.python.org/3.7/tutorial/controlflow.html) \n",
        "\n",
        "They are some convenient function for us to deal with sequences, benefited by the world of functional programming, we can apply this functions into every single elements of a sequances, in order to reduce the time of explicit Loop. \n",
        "What's more, all this functions are pure function, both have return value, we can use this return value to repersent our expression. \n",
        "\n",
        "So in layman term, why to use them is it cam much simplify our code, to execute those loop and iteration mission in a simple, elegance and efficient way. \n",
        "\n",
        "## map()\n",
        "The map() function is going to return an iterator that applies function to every item of iterable, yielding the results. Such as `list` we can check whether an object have `iterable` attribute by using `hasattr` such as: \n",
        "```python\n",
        ">>> a = [1, 2, 3, 4]\n",
        ">>> hasattr(a, '__iter__')\n",
        ">>> True\n",
        "```\n",
        "\n",
        "* map() function simple syntex: `map(func, iterable)`\n",
        "* parameter: `func` is an function that `map()` pass to the every elements in the `iterable` object, the `iterable` is an object that has `__iter__` attribute, so every elements can execute the `func`\n",
        "* return value: a `map` object\n",
        "\n",
        "Sounds like complicated? let's see an example:\n",
        "Assume we have a `list` that contain 1 - 5 digits, we want to every number add 1, before `map()` function, most likely we will do this:"
      ]
    },
    {
      "cell_type": "code",
      "execution_count": null,
      "metadata": {
        "id": "KOz_hCqzyX4n",
        "outputId": "1eb50288-9e35-444b-b90e-f2d4a812d263"
      },
      "outputs": [
        {
          "name": "stdout",
          "output_type": "stream",
          "text": [
            "[2, 3, 4, 5, 6]\n"
          ]
        }
      ],
      "source": [
        "numbers = [1, 2, 3, 4, 5]\n",
        "for i in range(0, len(numbers)):\n",
        "    numbers[i] += 1\n",
        "print(numbers)"
      ]
    },
    {
      "cell_type": "markdown",
      "metadata": {
        "id": "s0sTJOV6yX4p"
      },
      "source": [
        "Or, in another way:"
      ]
    },
    {
      "cell_type": "code",
      "execution_count": null,
      "metadata": {
        "id": "ln7r2sj9yX4p",
        "outputId": "64d460ca-0139-4883-cedb-4dc4069ad227"
      },
      "outputs": [
        {
          "name": "stdout",
          "output_type": "stream",
          "text": [
            "[2, 3, 4, 5, 6]\n"
          ]
        }
      ],
      "source": [
        "numbers = [1, 2, 3, 4, 5]\n",
        "# create empty list\n",
        "result = []\n",
        "\n",
        "for n in numbers:\n",
        "    result.append(n+1)\n",
        "print(result)"
      ]
    },
    {
      "cell_type": "markdown",
      "metadata": {
        "id": "p175R4-fyX4q"
      },
      "source": [
        "Obviously, no matter in which way, we all need to handle loop, so, we can try to use `map()` function:"
      ]
    },
    {
      "cell_type": "code",
      "execution_count": null,
      "metadata": {
        "id": "HSpAIzePyX4q",
        "outputId": "50a83219-7555-4ff6-8fe5-dce0cdefa086"
      },
      "outputs": [
        {
          "name": "stdout",
          "output_type": "stream",
          "text": [
            "<map object at 0x10a3c7150>\n",
            "<class 'map'>\n",
            "[2, 3, 4, 5, 6]\n"
          ]
        }
      ],
      "source": [
        "def add_one(n):\n",
        "    return n+1\n",
        "\n",
        "numbers = [1, 2, 3, 4, 5]\n",
        "result = map(add_one, numbers)\n",
        "print(result)\n",
        "print(type(result))\n",
        "print(list(result))"
      ]
    },
    {
      "cell_type": "markdown",
      "metadata": {
        "id": "oGyt4F8dyX4q"
      },
      "source": [
        "I believe you already notice the beauty of `map()`, we have achieved our purpose by not using loop, meanwhile, the code written in an elegent and simplicity way. \n",
        "So the `map()` function will return a `map` object if we planning to use this object in the future, this object type will help us to save the memory utilization, we use the `getsizeof()` function from `sys` to see the memory utilization of each object, `map` object and `list`"
      ]
    },
    {
      "cell_type": "code",
      "execution_count": null,
      "metadata": {
        "id": "GyrW2QpFyX4r",
        "outputId": "cd8a8e39-180b-4b39-df39-b8c016ff43fc"
      },
      "outputs": [
        {
          "name": "stdout",
          "output_type": "stream",
          "text": [
            "The size of map object in memory is 64 bytes\n",
            "Convert it into list: 72 bytes\n"
          ]
        }
      ],
      "source": [
        "from sys import getsizeof\n",
        "print(f'The size of map object in memory is {getsizeof(result)} bytes')\n",
        "print(f'Convert it into list: {getsizeof(list(result))} bytes')"
      ]
    },
    {
      "cell_type": "markdown",
      "metadata": {
        "id": "5E0XlBlNyX4r"
      },
      "source": [
        "The requirement of object to passed in `map()` function is `iterable` so as long as the object has attribute of `__iter__` it works, not only `list`, but also `tuple`, such as:"
      ]
    },
    {
      "cell_type": "code",
      "execution_count": null,
      "metadata": {
        "id": "pG5EBX0lyX4r",
        "outputId": "ddd45456-2f2a-42ff-810f-5465464d6ed5"
      },
      "outputs": [
        {
          "name": "stdout",
          "output_type": "stream",
          "text": [
            "Is tuple numbers iterable? Answer: True\n",
            "<map object at 0x109bb9410>\n",
            "<class 'map'>\n",
            "(2, 3, 4, 5, 6)\n"
          ]
        }
      ],
      "source": [
        "numbers = (1, 2, 3, 4, 5)\n",
        "print(f\"Is tuple numbers iterable? Answer: {hasattr(numbers, '__iter__')}\")\n",
        "\n",
        "result = map(add_one, numbers)\n",
        "print(result)\n",
        "print(type(result))\n",
        "print(tuple(result))"
      ]
    },
    {
      "cell_type": "markdown",
      "metadata": {
        "id": "QIjd1YypyX4s"
      },
      "source": [
        "Have you notice in order to achieved this, we need to create a function called `add_one(n)`? and it just simply return `n+1`, possible to reduce this? to make the code more simply and elegent? Yes, we can use `lambda`"
      ]
    },
    {
      "cell_type": "code",
      "execution_count": null,
      "metadata": {
        "id": "sTQXBQg-yX4s",
        "outputId": "a074ca93-a233-4e42-9e9a-fba17940db0b"
      },
      "outputs": [
        {
          "name": "stdout",
          "output_type": "stream",
          "text": [
            "(2, 3, 4, 5, 6)\n"
          ]
        }
      ],
      "source": [
        "numbers = (1, 2, 3, 4, 5)\n",
        "result = map(lambda x: x + 1, numbers)\n",
        "print(tuple(result))"
      ]
    },
    {
      "cell_type": "markdown",
      "metadata": {
        "id": "Ojn-PmSXyX4s"
      },
      "source": [
        "Three lines of code, simple, elegent, Pythonic\n",
        "\n",
        "Beside using defined function or `lambda` function to execute the iterable, we also can utilize Python bulit-in function, bulit-in type to execute the iterable, such this case:"
      ]
    },
    {
      "cell_type": "code",
      "execution_count": null,
      "metadata": {
        "id": "8Oo79SIHyX4t",
        "outputId": "fa867992-fa6a-4ce2-a777-19b1a63d2816"
      },
      "outputs": [
        {
          "name": "stdout",
          "output_type": "stream",
          "text": [
            "[['S', 'i', 'n', 'g', 'a', 'p', 'o', 'r', 'e'], ['G', 'u', 'a', 'n', 'g', 'z', 'h', 'o', 'u'], ['T', 'o', 'k', 'y', 'o']]\n",
            "The type of converted: <class 'list'>\n",
            "The lenght of converted: 3\n"
          ]
        }
      ],
      "source": [
        "# list of strings\n",
        "words = ['Singapore', 'Guangzhou', 'Tokyo']\n",
        "\n",
        "# convert every elements in the array into List\n",
        "converted = list(map(list, words))\n",
        "print(converted)\n",
        "print(f\"The type of converted: {type(converted)}\")\n",
        "print(f\"The lenght of converted: {len(converted)}\")"
      ]
    },
    {
      "cell_type": "markdown",
      "metadata": {
        "id": "kZeGJ-4-yX4t"
      },
      "source": [
        "`words` is a list that contain `string` type of elements, we can use `map()` and Python bulit-in `list` to convert every elements in `words` into List, but do take note, every elements must have `__iter__` attribute, otherwise, it will raise `TypeError`, such as `int` type:"
      ]
    },
    {
      "cell_type": "code",
      "execution_count": null,
      "metadata": {
        "id": "iz_MbBJAyX4t",
        "outputId": "b16e499c-e7fa-477e-b114-dc0f1bba4a7a"
      },
      "outputs": [
        {
          "ename": "TypeError",
          "evalue": "'int' object is not iterable",
          "output_type": "error",
          "traceback": [
            "\u001b[0;31m---------------------------------------------------------------------------\u001b[0m",
            "\u001b[0;31mTypeError\u001b[0m                                 Traceback (most recent call last)",
            "\u001b[0;32m<ipython-input-14-58446c133a68>\u001b[0m in \u001b[0;36m<module>\u001b[0;34m\u001b[0m\n\u001b[1;32m      1\u001b[0m \u001b[0mnumbers\u001b[0m \u001b[0;34m=\u001b[0m \u001b[0;34m[\u001b[0m\u001b[0;36m3\u001b[0m\u001b[0;34m,\u001b[0m \u001b[0;34m'23'\u001b[0m\u001b[0;34m,\u001b[0m \u001b[0;36m42\u001b[0m\u001b[0;34m]\u001b[0m\u001b[0;34m\u001b[0m\u001b[0;34m\u001b[0m\u001b[0m\n\u001b[0;32m----> 2\u001b[0;31m \u001b[0mprint\u001b[0m\u001b[0;34m(\u001b[0m\u001b[0mlist\u001b[0m\u001b[0;34m(\u001b[0m\u001b[0mmap\u001b[0m\u001b[0;34m(\u001b[0m\u001b[0mlist\u001b[0m\u001b[0;34m,\u001b[0m \u001b[0mnumbers\u001b[0m\u001b[0;34m)\u001b[0m\u001b[0;34m)\u001b[0m\u001b[0;34m)\u001b[0m\u001b[0;34m\u001b[0m\u001b[0;34m\u001b[0m\u001b[0m\n\u001b[0m",
            "\u001b[0;31mTypeError\u001b[0m: 'int' object is not iterable"
          ]
        }
      ],
      "source": [
        "numbers = [3, '23', 42]\n",
        "print(list(map(list, numbers)))"
      ]
    },
    {
      "cell_type": "markdown",
      "metadata": {
        "id": "5OVMFZACyX4t"
      },
      "source": [
        "We can see: `TypeError`, `int` object is not iterable, we can avoid it by this way: "
      ]
    },
    {
      "cell_type": "code",
      "execution_count": null,
      "metadata": {
        "id": "J4RKbca9yX4t",
        "outputId": "20dd7319-58de-4b29-c3cb-0b3e01a6e17e"
      },
      "outputs": [
        {
          "name": "stdout",
          "output_type": "stream",
          "text": [
            "[3.0, 23.0, 42.0]\n"
          ]
        }
      ],
      "source": [
        "numbers = [3, '23', 42]\n",
        "print(list(map(float, numbers)))"
      ]
    },
    {
      "cell_type": "markdown",
      "metadata": {
        "id": "DeETk-67yX4u"
      },
      "source": [
        "## filter()\n",
        "\n",
        "`filter()` function is using a function to \"filter\" the sequence, the function is going to examinate every elements in the sequence is `True` or `False`\n",
        "\n",
        "* `filter()` syntex: `filter(func, iterable)`\n",
        "* Parameter: `func` test iterable sequances' elements is `True` or `False`, `iterable` is the iterable sequances that been filter\n",
        "* Return value: an iterable sequance that every elements is `True` to the filter function `func`\n",
        "\n",
        "Layman term: `filter()` is to filter a set of data based on the given conditions\n",
        "\n",
        "Example:\n"
      ]
    },
    {
      "cell_type": "code",
      "execution_count": null,
      "metadata": {
        "id": "Iom_7WURyX4u",
        "outputId": "c7dd3515-4b5e-41bc-cbb1-0568e0b58808"
      },
      "outputs": [
        {
          "name": "stdout",
          "output_type": "stream",
          "text": [
            "The vowel in the sequance is ['I', 'o', 'e', 'o']\n"
          ]
        }
      ],
      "source": [
        "# filter vowel\n",
        "def func(variable):\n",
        "    letters = ['a', 'e', 'i', 'o', 'u']\n",
        "    if (variable.lower() in letters):\n",
        "        return True\n",
        "    else:\n",
        "        return False\n",
        "\n",
        "# given sequance\n",
        "sequance = ['I', 'l', 'o', 'v', 'e', 'p', 'y', 't', 'h', 'o', 'n']\n",
        "\n",
        "filtered = list(filter(func, sequance))\n",
        "print(f\"The vowel in the sequance is {filtered}\")"
      ]
    },
    {
      "cell_type": "markdown",
      "metadata": {
        "id": "0JVGCoPKyX4u"
      },
      "source": [
        "Above we create a method to pull the vowel from a given sequance, the given sequance is `List`, so it have `'__iter__'`, and apply it to `filter()` to pull out the vowel. \n",
        "\n",
        "Here we have another example:"
      ]
    },
    {
      "cell_type": "code",
      "execution_count": null,
      "metadata": {
        "id": "fnW8QOEJyX4u",
        "outputId": "cea40e26-9d9c-4d8f-e7aa-3d52b93358b3"
      },
      "outputs": [
        {
          "name": "stdout",
          "output_type": "stream",
          "text": [
            "The positive number is: [1, 5, 9, 12].\n",
            "The even number is [-20, 0, 12].\n"
          ]
        }
      ],
      "source": [
        "# positive or negitive number\n",
        "def positive(num):\n",
        "    if num > 0:\n",
        "        return True\n",
        "    else:\n",
        "        return False\n",
        "\n",
        "# odd or even number\n",
        "def even_number(num):\n",
        "    if num % 2 == 0:\n",
        "        return True\n",
        "    else:\n",
        "        return False\n",
        "\n",
        "numbers = [1, -3, 5, -20, 0, 9, 12]\n",
        "positive_number = list(filter(positive, numbers))\n",
        "even_number = list(filter(even_number, numbers))\n",
        "\n",
        "print(f\"The positive number is: {positive_number}.\")\n",
        "print(f\"The even number is {even_number}.\")"
      ]
    },
    {
      "cell_type": "markdown",
      "metadata": {
        "id": "ZeBS2K9XyX4u"
      },
      "source": [
        "So, how to use `filter()` function is quite simple: \n",
        "\n",
        "1. define a method that can filter out `True` or `False`\n",
        "2. apply it to iterable object\n",
        "3. Integrate it into your bigger code block\n",
        "\n",
        "Now let's see how to use `lambda` together:"
      ]
    },
    {
      "cell_type": "code",
      "execution_count": null,
      "metadata": {
        "id": "4nzLv99OyX4v",
        "outputId": "b8d5f63f-5219-4f48-f0af-8feb210d41b5"
      },
      "outputs": [
        {
          "name": "stdout",
          "output_type": "stream",
          "text": [
            "The odd number is [1, -3, 5].\n",
            "The even number is [0, 2, -8, 42].\n",
            "The positive number is [1, 2, 5, 42].\n"
          ]
        }
      ],
      "source": [
        "numbers = [0, 1, 2, -3, 5, -8, 42]\n",
        "\n",
        "# odd number\n",
        "odd_number = filter(lambda x: x % 2, numbers)\n",
        "print(f\"The odd number is {list(odd_number)}.\")\n",
        "\n",
        "# even number\n",
        "even_number = filter(lambda x: x % 2 == 0, numbers)\n",
        "print(f\"The even number is {list(even_number)}.\")\n",
        "\n",
        "# positive number\n",
        "positive_number = filter(lambda x: x > 0, numbers)\n",
        "print(f\"The positive number is {list(positive_number)}.\")"
      ]
    },
    {
      "cell_type": "markdown",
      "metadata": {
        "id": "FFoquoldyX4v"
      },
      "source": [
        "Always remember the Python philosophy： efficient, simple, elegent\n",
        "\n",
        "## Reduce()\n",
        "\n",
        "`reduce()` is very useful built-in function, it can execuate iterable object's compuatation and return the result, it can rolling compute the continues values in an iterable sequance, such as cumulative product of integer list, or cumulative sum. \n",
        "\n",
        "* Syntex: `reduce(func, iterable)`\n",
        "* Parameter: `func`: a continues method to execuate on each element of the iterable object, last resut is the new parameter of next execuation. \n",
        "* Return value: the `func` return value\n",
        "\n",
        "In Python 3, `reduce()` moved to `functools` module, so before we use it, we need to `import` it from `functools`\n",
        "\n",
        "Example:"
      ]
    },
    {
      "cell_type": "code",
      "execution_count": null,
      "metadata": {
        "id": "BZmg3IK3yX4v",
        "outputId": "86de85c7-991a-4b38-a301-88a2aa4dc696"
      },
      "outputs": [
        {
          "name": "stdout",
          "output_type": "stream",
          "text": [
            "The sum of 1, 2, 3, 4 is: 10.\n"
          ]
        }
      ],
      "source": [
        "from functools import reduce\n",
        "\n",
        "def do_sum(num1, num2):\n",
        "    return num1 + num2\n",
        "\n",
        "print(f\"The sum of 1, 2, 3, 4 is: {reduce(do_sum, [1, 2, 3, 4])}.\")"
      ]
    },
    {
      "cell_type": "code",
      "execution_count": null,
      "metadata": {
        "id": "tprLdKc4yX4v",
        "outputId": "59cc30b6-38c6-49d8-80d6-0fafebcd6d54"
      },
      "outputs": [
        {
          "name": "stdout",
          "output_type": "stream",
          "text": [
            "The cumulative product of 1, 2, 3, 4 is: 24.\n"
          ]
        }
      ],
      "source": [
        "# cumulative product example\n",
        "\n",
        "def multiply(num1, num2):\n",
        "    return num1*num2\n",
        "\n",
        "print(f\"The cumulative product of 1, 2, 3, 4 is: {reduce(multiply, [1, 2, 3, 4])}.\")"
      ]
    },
    {
      "cell_type": "code",
      "execution_count": null,
      "metadata": {
        "id": "HXd4r4XmyX4w",
        "outputId": "b714b9aa-1407-4ac5-de96-51fef798ebba"
      },
      "outputs": [
        {
          "name": "stdout",
          "output_type": "stream",
          "text": [
            "The cumulative product of 1, 2, 3, 4 is: 24\n",
            "The cumulative sum of 1, 2, 3, 4 is: 10.\n"
          ]
        }
      ],
      "source": [
        "# more simple and elegent way with lambda\n",
        "numbers = [1, 2, 3, 4]\n",
        "\n",
        "result_multiply = reduce(lambda x, y: x*y, numbers)\n",
        "result_sum = reduce(lambda x, y: x+y, numbers)\n",
        "\n",
        "print(f\"The cumulative product of 1, 2, 3, 4 is: {result_multiply}\")\n",
        "print(f\"The cumulative sum of 1, 2, 3, 4 is: {result_sum}.\")"
      ]
    },
    {
      "cell_type": "markdown",
      "metadata": {
        "id": "r26HZkLqyX4w"
      },
      "source": [
        "## zip()\n",
        "\n",
        "As it's name, `zip()` function is to put multiple `iterable` object together, and \"packed\" it as one single object, mapping with similar index. \n",
        "\n",
        "* Syntex: `zip(*iterators)`\n",
        "* Parameter: `iterators` is `iterable` object, such as `List`, `String`\n",
        "* Return value: Single iterator object, containing index value from the packed object. \n",
        "\n",
        "Example: "
      ]
    },
    {
      "cell_type": "code",
      "execution_count": null,
      "metadata": {
        "id": "1SEBFZVAyX4w",
        "outputId": "fd8834c5-028a-4c5b-8747-24a974d9cd91"
      },
      "outputs": [
        {
          "name": "stdout",
          "output_type": "stream",
          "text": [
            "{'name': 'Apple', 'age': '44'}\n"
          ]
        }
      ],
      "source": [
        "keys = ['name', 'age']\n",
        "values = ['Apple', '44']\n",
        "\n",
        "apple_dict = dict(zip(keys, values))\n",
        "print(apple_dict)"
      ]
    },
    {
      "cell_type": "markdown",
      "metadata": {
        "id": "o9JSkNHJyX4w"
      },
      "source": [
        "`zip()` it also support multiple objects:"
      ]
    },
    {
      "cell_type": "code",
      "execution_count": null,
      "metadata": {
        "id": "hbN7_l3tyX4w",
        "outputId": "94ef815c-359d-4379-cd5d-45ff180106e0"
      },
      "outputs": [
        {
          "name": "stdout",
          "output_type": "stream",
          "text": [
            "[('Apple', '44', '100'), ('Google', '21', '80'), ('Microsoft', '44', '60')]\n"
          ]
        }
      ],
      "source": [
        "names = ['Apple', 'Google', 'Microsoft']\n",
        "ages = ['44', '21', '44']\n",
        "values = ['100', '80', '60']\n",
        "\n",
        "mapped_values = list(zip(names, ages, values))\n",
        "print(mapped_values)"
      ]
    },
    {
      "cell_type": "markdown",
      "metadata": {
        "id": "ErGfhddZyX4w"
      },
      "source": [
        "We can use the `zip()` function to easily packed the values have same index from 3 list\n",
        "\n",
        "But how about unpack?\n",
        "\n",
        "Simple, just similar to unpanc tuple, we add the `*` to the object that we want to unpack"
      ]
    },
    {
      "cell_type": "code",
      "execution_count": null,
      "metadata": {
        "id": "mGjCDlwZyX4x",
        "outputId": "be542d99-8dc9-4c86-a98e-6471720c892a"
      },
      "outputs": [
        {
          "name": "stdout",
          "output_type": "stream",
          "text": [
            "The names is ('Apple', 'Google', 'Microsoft')\n",
            "The ages is ('44', '21', '44')\n",
            "The values is ('100', '80', '60')\n"
          ]
        }
      ],
      "source": [
        "names, ages, values = zip(*mapped_values)\n",
        "print(f\"The names is {names}\")\n",
        "print(f\"The ages is {ages}\")\n",
        "print(f\"The values is {values}\")"
      ]
    },
    {
      "cell_type": "markdown",
      "metadata": {
        "id": "FetniIEqyX4x"
      },
      "source": [
        "## lambda()\n",
        "\n",
        "While normal functions are defined using the `def` keyword, in Python anonymous functions are defined using the `lambda` keyword. Hence, anonymous functions are also called lambda functions.\n",
        "\n",
        "> `Lambda` function can use any quantity of parameter, but only have one expression\n",
        "\n",
        "* Syntex: lambda argument: manipulate(argument)\n",
        "* Parameter: argument is the passing parameter, after the `:` is the manipulate\n",
        "\n",
        "Example: "
      ]
    },
    {
      "cell_type": "code",
      "execution_count": null,
      "metadata": {
        "id": "lJT1el9DyX4x",
        "outputId": "f85b7741-5c46-4e93-e203-86d6aa8a4b9f"
      },
      "outputs": [
        {
          "name": "stdout",
          "output_type": "stream",
          "text": [
            "3\n",
            "10\n"
          ]
        }
      ],
      "source": [
        "add_one = lambda x: x+1\n",
        "add_sum = lambda x, y: x+y\n",
        "\n",
        "print(add_one(2))\n",
        "print(add_sum(5, 5))"
      ]
    },
    {
      "cell_type": "markdown",
      "metadata": {
        "id": "DPoIuGUeyX4x"
      },
      "source": [
        "Normally we will not use `lambda` function individually, we will use it along with other built-in function or `def` function, which we have already shows above, use it along with `map()`, `filter()`, `reduce()` and `zip()` function. \n",
        "\n",
        "Let's see one more example of `lambda` interacting with `dict`"
      ]
    },
    {
      "cell_type": "code",
      "execution_count": null,
      "metadata": {
        "id": "lZ5K0caryX4x",
        "outputId": "22fc4375-5ea8-48ab-90b5-8bd75e08576a"
      },
      "outputs": [
        {
          "name": "stdout",
          "output_type": "stream",
          "text": [
            "['NYU', 'NUS']\n"
          ]
        }
      ],
      "source": [
        "university = [{'name': 'NYU', \n",
        "               'city': 'New York'}, \n",
        "              {'name': 'NUS', \n",
        "               'city': \"Singapore\"}]\n",
        "\n",
        "names = list(map(lambda x: x['name'], university))\n",
        "print(names)"
      ]
    },
    {
      "cell_type": "markdown",
      "metadata": {
        "id": "4afVvZtZyX4x"
      },
      "source": [
        "Above we interacting with `dict` with `map()` function, given the condition for the iterable `list` of `dict` that contain the `name` and the `city` of each University\n",
        "\n",
        "We also can interacting `dict` with `filter()` function, through the return value `True` or `False` to judge the filtering condition. "
      ]
    },
    {
      "cell_type": "code",
      "execution_count": null,
      "metadata": {
        "id": "QaJb4UHmyX4y",
        "outputId": "b9ec6354-c392-4961-b457-ef42c5f39777"
      },
      "outputs": [
        {
          "name": "stdout",
          "output_type": "stream",
          "text": [
            "[{'name': 'NUS', 'city': 'Singapore'}]\n"
          ]
        }
      ],
      "source": [
        "university = [{'name': 'NYU', \n",
        "               'city': 'New York'}, \n",
        "              {'name': 'NUS', \n",
        "               'city': \"Singapore\"}]\n",
        "\n",
        "names = list(filter(lambda x: x['name'] == 'NUS', university))\n",
        "print(names)"
      ]
    },
    {
      "cell_type": "markdown",
      "metadata": {
        "id": "9sZDADSNyX4y"
      },
      "source": [
        "Through the above example, you have seen the actual application scenario of `lambda`, but here I want to share my views with you: I think that the disadvantages of `lambda` are slightly more than the advantages, and you should avoid overusing `lambda`.\n",
        "\n",
        "First of all, this is just my personal opinion. I hope everyone understands why I said this. First, let's compare the `lambda` method with the conventional `def`. I find that the main differences between `lambda` and `def` are as follows:\n",
        "\n",
        "* Passing the parameter immediately(no need to define variable).\n",
        "* one line of code, very simple (but, it doesn't mean is efficient).\n",
        "* Automatically return, no need `return` keyword.\n",
        "* `lambda` function DO NOT have a function name\n",
        "\n",
        "You can see the advantages. I mainly want to talk about its disadvantages. First of all, starting from real needs, we don’t need `lambda` most of the time, because we can always find better alternatives. Now let ’s take a look In the example of `lambda` + `reduce()`, the result we achieved with `lambada` is as follows:"
      ]
    },
    {
      "cell_type": "code",
      "execution_count": null,
      "metadata": {
        "id": "ECjoVQTxyX4y"
      },
      "outputs": [],
      "source": [
        "from functools import reduce          \n",
        "numbers = [1,2,3,4]\n",
        "result_multiply = reduce((lambda x, y: x * y), numbers)\n",
        "result_add = reduce((lambda x,y: x+y), numbers)"
      ]
    },
    {
      "cell_type": "markdown",
      "metadata": {
        "id": "vsFJc7MnyX4y"
      },
      "source": [
        "Above example, the `lambda` didn't achieved the simple and efficient purpose, as we have the bulit-in `sum` and `mul` method, even it can work with `NumPy` also"
      ]
    },
    {
      "cell_type": "code",
      "execution_count": null,
      "metadata": {
        "id": "X9GTuPEDyX4y",
        "outputId": "3ad83d43-55f2-4ea5-ace7-74568bbb151d"
      },
      "outputs": [
        {
          "name": "stdout",
          "output_type": "stream",
          "text": [
            "The sum is 10\n",
            "The cumulative product is: 24\n",
            "The Matrix Multipication is \n",
            " [[-2.09128347 -0.96279072 -1.81723096]\n",
            " [-1.26743106  0.45465535  0.47941216]\n",
            " [-0.36291425 -0.02198572 -0.52437492]]\n"
          ]
        }
      ],
      "source": [
        "from functools import reduce\n",
        "import operator\n",
        "import numpy as np\n",
        "\n",
        "numbers = [1, 2, 3, 4]\n",
        "result_sum = sum(numbers)\n",
        "result_multiply = reduce(operator.mul, numbers)\n",
        "\n",
        "print(f\"The sum is {result_sum}\")\n",
        "print(f\"The cumulative product is: {result_multiply}\")\n",
        "\n",
        "matrixA = np.random.randn(3, 3)\n",
        "matrixB = np.random.randn(3, 3)\n",
        "matrixList = [matrixA, matrixB]\n",
        "\n",
        "mulmat = reduce(operator.mul, matrixList)\n",
        "print(f\"The Matrix Multipication is \\n {mulmat}\")"
      ]
    },
    {
      "cell_type": "markdown",
      "metadata": {
        "id": "xq0Ymb4zyX4y"
      },
      "source": [
        "The result is the same, but obviously the solution using `sum` and `mul` is more efficient. Another common example shows that if we have a `list` that stores various colors, we now need to capitalize the first letter of each color. If we write it in lambda:"
      ]
    },
    {
      "cell_type": "code",
      "execution_count": null,
      "metadata": {
        "id": "hjCCyT5OyX4y",
        "outputId": "3a6a2810-79c9-4d5e-a498-7498d3f41ea6"
      },
      "outputs": [
        {
          "name": "stdout",
          "output_type": "stream",
          "text": [
            "['Red', 'Purple', 'Green', 'Blue']\n"
          ]
        }
      ],
      "source": [
        "colors = ['red','purple','green','blue']\n",
        "result = map(lambda c:c.capitalize(),colors)\n",
        "print(list(result))"
      ]
    },
    {
      "cell_type": "markdown",
      "metadata": {
        "id": "HDxNG3l5yX4z"
      },
      "source": [
        "Seems ok, but, did we forgot the power of `List` ?"
      ]
    },
    {
      "cell_type": "code",
      "execution_count": null,
      "metadata": {
        "id": "UQOjC48tyX4z",
        "outputId": "cd022d0d-14cc-4ad0-b2b6-1ca2978d5bb8"
      },
      "outputs": [
        {
          "name": "stdout",
          "output_type": "stream",
          "text": [
            "['Red', 'Purple', 'Green', 'Blue']\n"
          ]
        }
      ],
      "source": [
        "colors = ['red','purple','green','blue']\n",
        "result = [c.capitalize() for c in colors]\n",
        "print(result)"
      ]
    },
    {
      "cell_type": "markdown",
      "metadata": {
        "id": "7gJ9z0k2yX4z"
      },
      "source": [
        "`Sorted` can also handle the case of irregular initials, saving even more time: "
      ]
    },
    {
      "cell_type": "code",
      "execution_count": null,
      "metadata": {
        "id": "OJATIYR4yX4z",
        "outputId": "3b62088d-1f32-489c-ef3a-f48bbd525905"
      },
      "outputs": [
        {
          "name": "stdout",
          "output_type": "stream",
          "text": [
            "['blue', 'Green', 'purple', 'Red']\n"
          ]
        }
      ],
      "source": [
        "colors = ['Red','purple','Green','blue']\n",
        "print(sorted(colors,key=str.capitalize))"
      ]
    },
    {
      "cell_type": "markdown",
      "metadata": {
        "id": "zex8BbxhyX4z"
      },
      "source": [
        "There is another reason: `lambda` functions do not have function names. So in the case of code transfer and project migration, it will bring a lot of difficulties to the team. It is not bad to write a function `add_one()`, because everyone is easy to understand and know that it is a function of performing `+1`, but if you are in the team, use a lots of `lambda` will make peoples confused.\n",
        "\n",
        "## Scenario that fit lambda\n",
        "\n",
        "1. Your method is too simple to have a name, such as adding 1, or just stiching the strings\n",
        "2. Using `lambda` is much easier for people to understand\n",
        "3. There's no any Python built-in function except `lambda`\n",
        "4. Team members are all well understand `lambda`, most importantly, no one complain you. "
      ]
    },
    {
      "cell_type": "code",
      "execution_count": null,
      "metadata": {
        "id": "3Oq46B9yyX4z"
      },
      "outputs": [],
      "source": []
    }
  ],
  "metadata": {
    "file_extension": ".py",
    "kernelspec": {
      "display_name": "Python 3.7.6 64-bit ('cpuml-venv': venv)",
      "language": "python",
      "name": "python37664bitcpumlvenvvenvd94f9e51502149bb8cea6e47812f52f1"
    },
    "language_info": {
      "codemirror_mode": {
        "name": "ipython",
        "version": 3
      },
      "file_extension": ".py",
      "mimetype": "text/x-python",
      "name": "python",
      "nbconvert_exporter": "python",
      "pygments_lexer": "ipython3",
      "version": "3.7.6"
    },
    "mimetype": "text/x-python",
    "name": "python",
    "npconvert_exporter": "python",
    "pygments_lexer": "ipython3",
    "version": 3,
    "colab": {
      "provenance": []
    }
  },
  "nbformat": 4,
  "nbformat_minor": 0
}