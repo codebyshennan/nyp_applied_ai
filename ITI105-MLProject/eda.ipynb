{
  "nbformat": 4,
  "nbformat_minor": 0,
  "metadata": {
    "colab": {
      "provenance": [],
      "authorship_tag": "ABX9TyNwxUw9RWWmma50efvOTY7P",
      "include_colab_link": true
    },
    "kernelspec": {
      "name": "python3",
      "display_name": "Python 3"
    },
    "language_info": {
      "name": "python"
    }
  },
  "cells": [
    {
      "cell_type": "markdown",
      "metadata": {
        "id": "view-in-github",
        "colab_type": "text"
      },
      "source": [
        "<a href=\"https://colab.research.google.com/github/codebyshennan/iti105-mlproject/blob/main/eda.ipynb\" target=\"_parent\"><img src=\"https://colab.research.google.com/assets/colab-badge.svg\" alt=\"Open In Colab\"/></a>"
      ]
    },
    {
      "cell_type": "markdown",
      "source": [
        "#Introduction\n",
        "\n",
        "Team:\n",
        "1. Wong Shen Nan\n",
        "2. Abdul Halim Abdul Karim\n",
        "3. Nway Aung\n",
        "\n",
        "## Module Objective\n",
        "\n",
        "In this module, you will apply the knowledge and skills  acquired in other PDC1 modules to develop a solution for a problem in selected domain using machine learning approach.\n",
        "\n",
        "## Module Learning Outcomes\n",
        "\n",
        "1. Identify and select a suitable machine learning model for a given problem and data set\n",
        "2. Develop and deploy a machine learning application using appropriate software framework and tools\n",
        "3. Apply model tuning and optimization to improve performance of machine learning systems\n",
        "4. Evaluate machine learning models using appropriate metrics for efficiency and effectiveness"
      ],
      "metadata": {
        "id": "EneLTxV22nCk"
      }
    },
    {
      "cell_type": "markdown",
      "source": [
        "## Problem Statement\n",
        "*This problem was adapted from the [2022 FormulaAI Hackathon](\n",
        "https://www.kaggle.com/datasets/oracledevrel/formulaaihackathon2022)*\n",
        "\n",
        "Formula 1 is one of the most competitive sports in the world. Engineers and technicians from every team use weather radar screens, provided by Ubimet to the teams, which allows them to track the current weather and make predictions during the race. Race engineers relay precise information to drivers, including:\n",
        "\n",
        "1. How many minutes until it starts raining\n",
        "2. Intensity of the rain\n",
        "3. Which corner will be hit first by the rain\n",
        "4. Duration of the rain\n",
        "5. Points, and even races sometimes, are won and lost based on making sense of what the weather is going to do during a race, and being prepared as a team to act accordingly.\n",
        "\n",
        "Therefore, weather forecasting takes a big part on the possible outcome of a race.\n",
        "\n",
        "Similarly, F1 2021, the official Formula 1 videogame developed by Codemasters, uses a physics engine that behaves like the real world.\n",
        "\n",
        "You are presented with historical weather data from the RedBull Racing eSports team and you will be required develop an Artificial Intelligence model that is able to make accurate weather predictions / forecasts."
      ],
      "metadata": {
        "id": "nUtBmekB2_hr"
      }
    },
    {
      "cell_type": "code",
      "source": [
        "!pip install -qq pyarrow pandas polars"
      ],
      "metadata": {
        "id": "k2PO7P-d_65_"
      },
      "execution_count": null,
      "outputs": []
    },
    {
      "cell_type": "code",
      "execution_count": null,
      "metadata": {
        "id": "tgybjWIb2YuN"
      },
      "outputs": [],
      "source": [
        "import polars as pl\n",
        "\n",
        "url = \"https://media.githubusercontent.com/media/codebyshennan/iti105-mlproject/main/weather.csv\"\n",
        "\n",
        "# Increase infer_schema_length\n",
        "df = pl.read_csv(url,\n",
        "                 dtypes = {\n",
        "                    'GAMEHOST': pl.Utf8,\n",
        "                    'M_SESSION_UID': pl.Utf8,\n",
        "                    'TIMESTAMP': pl.Datetime,\n",
        "                    'M_PACKET_FORMAT': pl.UInt8,\n",
        "                    'M_GAME_MAJOR_VERSION': pl.UInt8,\n",
        "                    'M_GAME_MINOR_VERSION': pl.UInt8,\n",
        "                    'M_PACKET_VERSION': pl.UInt8,\n",
        "                    'M_PACKET_ID': pl.UInt8,\n",
        "                    'M_SESSION_TIME': pl.Float32,\n",
        "                    'M_FRAME_IDENTIFIER': pl.UInt64,\n",
        "                    'M_PLAYER_CAR_INDEX': pl.UInt8,\n",
        "                    'M_SECONDARY_PLAYER_CAR_INDEX': pl.UInt8,\n",
        "                    'M_BRAKING_ASSIST': pl.UInt8,\n",
        "                    'M_SESSION_LINK_IDENTIFIER': pl.Utf8,\n",
        "                    'M_PIT_RELEASE_ASSIST': pl.UInt8,\n",
        "                    'M_ZONE_START': pl.Float64,\n",
        "                    'M_ZONE_FLAG': pl.UInt8,\n",
        "                    'M_PIT_STOP_WINDOW_IDEAL_LAP': pl.UInt8,\n",
        "                    'M_TRACK_TEMPERATURE': pl.Float32,\n",
        "                    'M_TRACK_LENGTH': pl.Float32,\n",
        "                    'M_GAME_PAUSED': pl.UInt8,\n",
        "                    'M_FORECAST_ACCURACY': pl.Float64,\n",
        "                    'M_AIR_TEMPERATURE': pl.Float32,\n",
        "                    'M_NUM_WEATHER_FORECAST_SAMPLES': pl.UInt8,\n",
        "                    'M_SLI_PRO_NATIVE_SUPPORT': pl.UInt8,\n",
        "                    'M_SAFETY_CAR_STATUS': pl.UInt8,\n",
        "                    'M_TRACK_ID': pl.Int8,\n",
        "                    'M_ERSASSIST': pl.UInt8,\n",
        "                    'M_FORMULA': pl.UInt8,\n",
        "                    'M_SEASON_LINK_IDENTIFIER': pl.UInt64,\n",
        "                    'M_PIT_ASSIST': pl.UInt8,\n",
        "                    'M_GEARBOX_ASSIST': pl.UInt8,\n",
        "                    'M_SESSION_TYPE': pl.UInt8,\n",
        "                    'M_SPECTATOR_CAR_INDEX': pl.UInt8,\n",
        "                    'M_PIT_STOP_WINDOW_LATEST_LAP': pl.UInt8,\n",
        "                    'M_WEEKEND_LINK_IDENTIFIER': pl.UInt64,\n",
        "                    'M_DYNAMIC_RACING_LINE_TYPE': pl.UInt8,\n",
        "                    'M_SESSION_TIME_LEFT': pl.UInt8,\n",
        "                    'M_SESSION_DURATION': pl.UInt8,\n",
        "                    'M_PIT_STOP_REJOIN_POSITION': pl.UInt8,\n",
        "                    'M_WEATHER_FORECAST_SAMPLES_M_SESSION_TYPE': pl.UInt8,\n",
        "                    'M_TIME_OFFSET': pl.UInt8,\n",
        "                    'M_WEATHER_FORECAST_SAMPLES_M_WEATHER': pl.UInt8,\n",
        "                    'M_WEATHER_FORECAST_SAMPLES_M_TRACK_TEMPERATURE': pl.Float32,\n",
        "                    'M_TRACK_TEMPERATURE_CHANGE': pl.UInt8,\n",
        "                    'M_WEATHER_FORECAST_SAMPLES_M_AIR_TEMPERATURE': pl.UInt8,\n",
        "                    'M_AIR_TEMPERATURE_CHANGE': pl.UInt8,\n",
        "                    'M_RAIN_PERCENTAGE': pl.Float32,\n",
        "                    'M_WEATHER': pl.UInt8,\n",
        "                    'M_API_DIFFICULTY': pl.UInt8,\n",
        "                    'M_PIT_SPEED_LIMIT': pl.UInt8,\n",
        "                    'M_NETWORK_GAME': pl.UInt8,\n",
        "                    'M_TOTAL_LAPS': pl.UInt32,\n",
        "                    'M_STEERING WHEEL': pl.UInt8,\n",
        "                    'M_IS_SPECTATING': pl.UInt8,\n",
        "                    'M_DYNAMIC_RACING_LINE': pl.UInt8,\n",
        "                    'M_DRSASSIST': pl.UInt8,\n",
        "                    'M_NUM_MARSHAL_ZONES': pl.UInt8\n",
        "                    })\n",
        "\n",
        "df = df.lazy()"
      ]
    },
    {
      "cell_type": "code",
      "source": [
        "df.collect().describe()"
      ],
      "metadata": {
        "colab": {
          "base_uri": "https://localhost:8080/",
          "height": 418
        },
        "id": "2DasdpUwAPjM",
        "outputId": "3e3878d6-3166-4c11-ec6d-38d6d65d90b3"
      },
      "execution_count": null,
      "outputs": [
        {
          "output_type": "execute_result",
          "data": {
            "text/plain": [
              "shape: (9, 59)\n",
              "┌────┬────────────┬────────────┬────────────┬───┬────────────┬────────────┬───────────┬────────────┐\n",
              "│ de ┆ M_PACKET_F ┆ M_GAME_MAJ ┆ M_GAME_MIN ┆ … ┆ M_IS_SPECT ┆ M_DYNAMIC_ ┆ M_DRSASSI ┆ M_NUM_MARS │\n",
              "│ sc ┆ ORMAT      ┆ OR_VERSION ┆ OR_VERSION ┆   ┆ ATING      ┆ RACING_LIN ┆ ST        ┆ HAL_ZONES  │\n",
              "│ ri ┆ ---        ┆ ---        ┆ ---        ┆   ┆ ---        ┆ E          ┆ ---       ┆ ---        │\n",
              "│ be ┆ f64        ┆ f64        ┆ f64        ┆   ┆ f64        ┆ ---        ┆ f64       ┆ f64        │\n",
              "│ -- ┆            ┆            ┆            ┆   ┆            ┆ f64        ┆           ┆            │\n",
              "│ -  ┆            ┆            ┆            ┆   ┆            ┆            ┆           ┆            │\n",
              "│ st ┆            ┆            ┆            ┆   ┆            ┆            ┆           ┆            │\n",
              "│ r  ┆            ┆            ┆            ┆   ┆            ┆            ┆           ┆            │\n",
              "╞════╪════════════╪════════════╪════════════╪═══╪════════════╪════════════╪═══════════╪════════════╡\n",
              "│ co ┆ 3.572328e6 ┆ 3.572328e6 ┆ 3.572328e6 ┆ … ┆ 3.572328e6 ┆ 3.572328e6 ┆ 3.572328e ┆ 3.572328e6 │\n",
              "│ un ┆            ┆            ┆            ┆   ┆            ┆            ┆ 6         ┆            │\n",
              "│ t  ┆            ┆            ┆            ┆   ┆            ┆            ┆           ┆            │\n",
              "│ nu ┆ 3.572328e6 ┆ 0.0        ┆ 0.0        ┆ … ┆ 1.0        ┆ 1.0        ┆ 1.0       ┆ 1.0        │\n",
              "│ ll ┆            ┆            ┆            ┆   ┆            ┆            ┆           ┆            │\n",
              "│ _c ┆            ┆            ┆            ┆   ┆            ┆            ┆           ┆            │\n",
              "│ ou ┆            ┆            ┆            ┆   ┆            ┆            ┆           ┆            │\n",
              "│ nt ┆            ┆            ┆            ┆   ┆            ┆            ┆           ┆            │\n",
              "│ me ┆ null       ┆ 1.0        ┆ 14.10704   ┆ … ┆ 0.001487   ┆ 0.630773   ┆ 0.315387  ┆ 16.870913  │\n",
              "│ an ┆            ┆            ┆            ┆   ┆            ┆            ┆           ┆            │\n",
              "│ st ┆ null       ┆ 0.0        ┆ 0.309164   ┆ … ┆ 0.038536   ┆ 0.929339   ┆ 0.46467   ┆ 1.092343   │\n",
              "│ d  ┆            ┆            ┆            ┆   ┆            ┆            ┆           ┆            │\n",
              "│ mi ┆ null       ┆ 1.0        ┆ 14.0       ┆ … ┆ 0.0        ┆ 0.0        ┆ 0.0       ┆ 10.0       │\n",
              "│ n  ┆            ┆            ┆            ┆   ┆            ┆            ┆           ┆            │\n",
              "│ ma ┆ null       ┆ 1.0        ┆ 15.0       ┆ … ┆ 1.0        ┆ 2.0        ┆ 1.0       ┆ 19.0       │\n",
              "│ x  ┆            ┆            ┆            ┆   ┆            ┆            ┆           ┆            │\n",
              "│ me ┆ null       ┆ 1.0        ┆ 14.0       ┆ … ┆ 0.0        ┆ 0.0        ┆ 0.0       ┆ 17.0       │\n",
              "│ di ┆            ┆            ┆            ┆   ┆            ┆            ┆           ┆            │\n",
              "│ an ┆            ┆            ┆            ┆   ┆            ┆            ┆           ┆            │\n",
              "│ 25 ┆ null       ┆ 1.0        ┆ 14.0       ┆ … ┆ 0.0        ┆ 0.0        ┆ 0.0       ┆ 16.0       │\n",
              "│ %  ┆            ┆            ┆            ┆   ┆            ┆            ┆           ┆            │\n",
              "│ 75 ┆ null       ┆ 1.0        ┆ 14.0       ┆ … ┆ 0.0        ┆ 2.0        ┆ 1.0       ┆ 18.0       │\n",
              "│ %  ┆            ┆            ┆            ┆   ┆            ┆            ┆           ┆            │\n",
              "└────┴────────────┴────────────┴────────────┴───┴────────────┴────────────┴───────────┴────────────┘"
            ],
            "text/html": [
              "<div><style>\n",
              ".dataframe > thead > tr > th,\n",
              ".dataframe > tbody > tr > td {\n",
              "  text-align: right;\n",
              "}\n",
              "</style>\n",
              "<small>shape: (9, 59)</small><table border=\"1\" class=\"dataframe\"><thead><tr><th>describe</th><th>M_PACKET_FORMAT</th><th>M_GAME_MAJOR_VERSION</th><th>M_GAME_MINOR_VERSION</th><th>M_PACKET_VERSION</th><th>M_PACKET_ID</th><th>M_SESSION_UID</th><th>M_SESSION_TIME</th><th>M_FRAME_IDENTIFIER</th><th>M_PLAYER_CAR_INDEX</th><th>M_SECONDARY_PLAYER_CAR_INDEX</th><th>M_BRAKING_ASSIST</th><th>M_SESSION_LINK_IDENTIFIER</th><th>M_PIT_RELEASE_ASSIST</th><th>TIMESTAMP</th><th>M_ZONE_START</th><th>M_ZONE_FLAG</th><th>M_PIT_STOP_WINDOW_IDEAL_LAP</th><th>M_TRACK_TEMPERATURE</th><th>M_TRACK_LENGTH</th><th>M_GAME_PAUSED</th><th>M_FORECAST_ACCURACY</th><th>GAMEHOST</th><th>M_AIR_TEMPERATURE</th><th>M_NUM_WEATHER_FORECAST_SAMPLES</th><th>M_SLI_PRO_NATIVE_SUPPORT</th><th>M_SAFETY_CAR_STATUS</th><th>M_TRACK_ID</th><th>M_ERSASSIST</th><th>M_FORMULA</th><th>M_SEASON_LINK_IDENTIFIER</th><th>M_PIT_ASSIST</th><th>M_GEARBOX_ASSIST</th><th>M_SESSION_TYPE</th><th>M_SPECTATOR_CAR_INDEX</th><th>M_PIT_STOP_WINDOW_LATEST_LAP</th><th>M_WEEKEND_LINK_IDENTIFIER</th><th>M_DYNAMIC_RACING_LINE_TYPE</th><th>M_SESSION_TIME_LEFT</th><th>M_SESSION_DURATION</th><th>M_PIT_STOP_REJOIN_POSITION</th><th>M_WEATHER_FORECAST_SAMPLES_M_SESSION_TYPE</th><th>M_TIME_OFFSET</th><th>M_WEATHER_FORECAST_SAMPLES_M_WEATHER</th><th>M_WEATHER_FORECAST_SAMPLES_M_TRACK_TEMPERATURE</th><th>M_TRACK_TEMPERATURE_CHANGE</th><th>M_WEATHER_FORECAST_SAMPLES_M_AIR_TEMPERATURE</th><th>M_AIR_TEMPERATURE_CHANGE</th><th>M_RAIN_PERCENTAGE</th><th>M_WEATHER</th><th>M_API_DIFFICULTY</th><th>M_PIT_SPEED_LIMIT</th><th>M_NETWORK_GAME</th><th>M_TOTAL_LAPS</th><th>M_STEERING WHEEL</th><th>M_IS_SPECTATING</th><th>M_DYNAMIC_RACING_LINE</th><th>M_DRSASSIST</th><th>M_NUM_MARSHAL_ZONES</th></tr><tr><td>str</td><td>f64</td><td>f64</td><td>f64</td><td>f64</td><td>f64</td><td>str</td><td>f64</td><td>f64</td><td>f64</td><td>f64</td><td>f64</td><td>str</td><td>f64</td><td>str</td><td>f64</td><td>f64</td><td>f64</td><td>f64</td><td>f64</td><td>f64</td><td>f64</td><td>str</td><td>f64</td><td>f64</td><td>f64</td><td>f64</td><td>f64</td><td>f64</td><td>f64</td><td>f64</td><td>f64</td><td>f64</td><td>f64</td><td>f64</td><td>f64</td><td>f64</td><td>f64</td><td>f64</td><td>f64</td><td>f64</td><td>f64</td><td>f64</td><td>f64</td><td>f64</td><td>f64</td><td>f64</td><td>f64</td><td>f64</td><td>f64</td><td>f64</td><td>f64</td><td>f64</td><td>f64</td><td>f64</td><td>f64</td><td>f64</td><td>f64</td><td>f64</td></tr></thead><tbody><tr><td>&quot;count&quot;</td><td>3.572328e6</td><td>3.572328e6</td><td>3.572328e6</td><td>3.572328e6</td><td>3.572328e6</td><td>&quot;3572328&quot;</td><td>3.572328e6</td><td>3.572328e6</td><td>3.572328e6</td><td>3.572328e6</td><td>3.572328e6</td><td>&quot;3572328&quot;</td><td>3.572328e6</td><td>&quot;3572328&quot;</td><td>3.572328e6</td><td>3.572328e6</td><td>3.572328e6</td><td>3.572328e6</td><td>3.572328e6</td><td>3.572328e6</td><td>3.572328e6</td><td>&quot;3572328&quot;</td><td>3.572328e6</td><td>3.572328e6</td><td>3.572328e6</td><td>3.572328e6</td><td>3.572328e6</td><td>3.572328e6</td><td>3.572328e6</td><td>3.572328e6</td><td>3.572328e6</td><td>3.572328e6</td><td>3.572328e6</td><td>3.572328e6</td><td>3.572328e6</td><td>3.572328e6</td><td>3.572328e6</td><td>3.572328e6</td><td>3.572328e6</td><td>3.572328e6</td><td>3.572328e6</td><td>3.572328e6</td><td>3.572328e6</td><td>3.572328e6</td><td>3.572328e6</td><td>3.572328e6</td><td>3.572328e6</td><td>3.572328e6</td><td>3.572328e6</td><td>3.572328e6</td><td>3.572328e6</td><td>3.572328e6</td><td>3.572328e6</td><td>3.572328e6</td><td>3.572328e6</td><td>3.572328e6</td><td>3.572328e6</td><td>3.572328e6</td></tr><tr><td>&quot;null_count&quot;</td><td>3.572328e6</td><td>0.0</td><td>0.0</td><td>0.0</td><td>0.0</td><td>&quot;0&quot;</td><td>0.0</td><td>0.0</td><td>0.0</td><td>0.0</td><td>0.0</td><td>&quot;0&quot;</td><td>0.0</td><td>&quot;3572328&quot;</td><td>2.598054e6</td><td>2.598054e6</td><td>0.0</td><td>0.0</td><td>0.0</td><td>0.0</td><td>0.0</td><td>&quot;0&quot;</td><td>0.0</td><td>0.0</td><td>0.0</td><td>0.0</td><td>0.0</td><td>0.0</td><td>0.0</td><td>0.0</td><td>0.0</td><td>0.0</td><td>0.0</td><td>0.0</td><td>0.0</td><td>0.0</td><td>0.0</td><td>2.349568e6</td><td>3.566322e6</td><td>0.0</td><td>974274.0</td><td>974274.0</td><td>974274.0</td><td>974274.0</td><td>974274.0</td><td>974274.0</td><td>974274.0</td><td>974274.0</td><td>0.0</td><td>0.0</td><td>0.0</td><td>1.0</td><td>1.0</td><td>1.0</td><td>1.0</td><td>1.0</td><td>1.0</td><td>1.0</td></tr><tr><td>&quot;mean&quot;</td><td>null</td><td>1.0</td><td>14.10704</td><td>1.0</td><td>1.0</td><td>null</td><td>1019.925659</td><td>28574.271205</td><td>9.212292</td><td>255.0</td><td>0.692678</td><td>null</td><td>0.315386</td><td>null</td><td>0.414565</td><td>0.009579</td><td>1.881843</td><td>31.856207</td><td>4890.588379</td><td>0.013666</td><td>0.05712</td><td>null</td><td>24.074448</td><td>13.889803</td><td>0.0</td><td>0.0</td><td>15.889866</td><td>0.315386</td><td>0.008148</td><td>1.8945e9</td><td>0.315386</td><td>1.630773</td><td>8.246455</td><td>254.62467</td><td>2.185138</td><td>1.8945e9</td><td>0.315386</td><td>55.453589</td><td>240.0</td><td>2.164424</td><td>1.667811</td><td>5.917654</td><td>0.097052</td><td>7.615204</td><td>0.412308</td><td>5.993771</td><td>0.419992</td><td>1.147212</td><td>0.330496</td><td>45.953435</td><td>75.832208</td><td>0.226169</td><td>170.980727</td><td>0.158038</td><td>0.001487</td><td>0.630773</td><td>0.315387</td><td>16.870913</td></tr><tr><td>&quot;std&quot;</td><td>null</td><td>0.0</td><td>0.309164</td><td>0.0</td><td>0.0</td><td>null</td><td>1682.42627</td><td>54287.728389</td><td>9.217495</td><td>0.0</td><td>1.178056</td><td>null</td><td>0.46467</td><td>null</td><td>0.315565</td><td>0.147761</td><td>8.317268</td><td>2.456036</td><td>661.388855</td><td>0.116098</td><td>0.232071</td><td>null</td><td>2.703971</td><td>16.428682</td><td>0.0</td><td>0.0</td><td>12.38743</td><td>0.46467</td><td>0.15613</td><td>1.3452e9</td><td>0.46467</td><td>0.929339</td><td>3.896537</td><td>9.72529</td><td>9.589723</td><td>1.3452e9</td><td>0.46467</td><td>89.401377</td><td>0.0</td><td>5.387997</td><td>3.339838</td><td>16.425999</td><td>0.325182</td><td>13.317525</td><td>0.764537</td><td>10.492205</td><td>0.774669</td><td>3.355713</td><td>0.719565</td><td>38.119921</td><td>8.123138</td><td>0.41835</td><td>64.220347</td><td>0.364777</td><td>0.038536</td><td>0.929339</td><td>0.46467</td><td>1.092343</td></tr><tr><td>&quot;min&quot;</td><td>null</td><td>1.0</td><td>14.0</td><td>1.0</td><td>1.0</td><td>&quot;10092483444773…</td><td>0.004</td><td>0.0</td><td>0.0</td><td>255.0</td><td>0.0</td><td>&quot;0&quot;</td><td>0.0</td><td>null</td><td>0.0</td><td>0.0</td><td>0.0</td><td>23.0</td><td>3323.0</td><td>0.0</td><td>0.0</td><td>&quot;&quot;</td><td>17.0</td><td>0.0</td><td>0.0</td><td>0.0</td><td>1.0</td><td>0.0</td><td>0.0</td><td>0.0</td><td>0.0</td><td>1.0</td><td>1.0</td><td>0.0</td><td>0.0</td><td>0.0</td><td>0.0</td><td>0.0</td><td>240.0</td><td>0.0</td><td>0.0</td><td>0.0</td><td>0.0</td><td>0.0</td><td>0.0</td><td>0.0</td><td>0.0</td><td>0.0</td><td>0.0</td><td>0.0</td><td>60.0</td><td>0.0</td><td>5.0</td><td>0.0</td><td>0.0</td><td>0.0</td><td>0.0</td><td>10.0</td></tr><tr><td>&quot;max&quot;</td><td>null</td><td>1.0</td><td>15.0</td><td>1.0</td><td>1.0</td><td>&quot;99587338835377…</td><td>9686.958984</td><td>333917.0</td><td>19.0</td><td>255.0</td><td>3.0</td><td>&quot;861334657&quot;</td><td>1.0</td><td>null</td><td>0.997</td><td>3.0</td><td>47.0</td><td>36.0</td><td>5896.0</td><td>1.0</td><td>1.0</td><td>&quot;test&quot;</td><td>29.0</td><td>48.0</td><td>0.0</td><td>0.0</td><td>28.0</td><td>1.0</td><td>3.0</td><td>4.2643e9</td><td>1.0</td><td>3.0</td><td>13.0</td><td>255.0</td><td>52.0</td><td>4.2643e9</td><td>1.0</td><td>255.0</td><td>240.0</td><td>20.0</td><td>10.0</td><td>120.0</td><td>6.0</td><td>36.0</td><td>2.0</td><td>29.0</td><td>2.0</td><td>93.0</td><td>5.0</td><td>110.0</td><td>80.0</td><td>1.0</td><td>200.0</td><td>1.0</td><td>1.0</td><td>2.0</td><td>1.0</td><td>19.0</td></tr><tr><td>&quot;median&quot;</td><td>null</td><td>1.0</td><td>14.0</td><td>1.0</td><td>1.0</td><td>null</td><td>431.924011</td><td>11749.0</td><td>2.0</td><td>255.0</td><td>0.0</td><td>null</td><td>0.0</td><td>null</td><td>0.412</td><td>0.0</td><td>0.0</td><td>33.0</td><td>4650.0</td><td>0.0</td><td>0.0</td><td>null</td><td>25.0</td><td>10.0</td><td>0.0</td><td>0.0</td><td>27.0</td><td>0.0</td><td>0.0</td><td>2.1842e9</td><td>0.0</td><td>1.0</td><td>8.0</td><td>255.0</td><td>0.0</td><td>2.1842e9</td><td>0.0</td><td>0.0</td><td>240.0</td><td>0.0</td><td>0.0</td><td>0.0</td><td>0.0</td><td>0.0</td><td>0.0</td><td>0.0</td><td>0.0</td><td>0.0</td><td>0.0</td><td>31.0</td><td>80.0</td><td>0.0</td><td>200.0</td><td>0.0</td><td>0.0</td><td>0.0</td><td>0.0</td><td>17.0</td></tr><tr><td>&quot;25%&quot;</td><td>null</td><td>1.0</td><td>14.0</td><td>1.0</td><td>1.0</td><td>null</td><td>113.800003</td><td>3007.0</td><td>0.0</td><td>255.0</td><td>0.0</td><td>null</td><td>0.0</td><td>null</td><td>0.108</td><td>0.0</td><td>0.0</td><td>31.0</td><td>4650.0</td><td>0.0</td><td>0.0</td><td>null</td><td>23.0</td><td>3.0</td><td>0.0</td><td>0.0</td><td>3.0</td><td>0.0</td><td>0.0</td><td>8.61334657e8</td><td>0.0</td><td>1.0</td><td>8.0</td><td>255.0</td><td>0.0</td><td>8.61334657e8</td><td>0.0</td><td>0.0</td><td>240.0</td><td>0.0</td><td>0.0</td><td>0.0</td><td>0.0</td><td>0.0</td><td>0.0</td><td>0.0</td><td>0.0</td><td>0.0</td><td>0.0</td><td>31.0</td><td>80.0</td><td>0.0</td><td>200.0</td><td>0.0</td><td>0.0</td><td>0.0</td><td>0.0</td><td>16.0</td></tr><tr><td>&quot;75%&quot;</td><td>null</td><td>1.0</td><td>14.0</td><td>1.0</td><td>1.0</td><td>null</td><td>1024.212036</td><td>29724.0</td><td>19.0</td><td>255.0</td><td>2.0</td><td>null</td><td>1.0</td><td>null</td><td>0.69</td><td>0.0</td><td>0.0</td><td>33.0</td><td>5408.0</td><td>0.0</td><td>0.0</td><td>null</td><td>25.0</td><td>10.0</td><td>0.0</td><td>0.0</td><td>28.0</td><td>1.0</td><td>0.0</td><td>3.2712e9</td><td>1.0</td><td>3.0</td><td>10.0</td><td>255.0</td><td>0.0</td><td>3.2712e9</td><td>1.0</td><td>122.0</td><td>240.0</td><td>0.0</td><td>0.0</td><td>0.0</td><td>0.0</td><td>0.0</td><td>0.0</td><td>0.0</td><td>0.0</td><td>0.0</td><td>1.0</td><td>90.0</td><td>80.0</td><td>0.0</td><td>200.0</td><td>0.0</td><td>0.0</td><td>2.0</td><td>1.0</td><td>18.0</td></tr></tbody></table></div>"
            ]
          },
          "metadata": {},
          "execution_count": 43
        }
      ]
    },
    {
      "cell_type": "code",
      "source": [],
      "metadata": {
        "id": "LiaeS3RZAP_L"
      },
      "execution_count": null,
      "outputs": []
    }
  ]
}