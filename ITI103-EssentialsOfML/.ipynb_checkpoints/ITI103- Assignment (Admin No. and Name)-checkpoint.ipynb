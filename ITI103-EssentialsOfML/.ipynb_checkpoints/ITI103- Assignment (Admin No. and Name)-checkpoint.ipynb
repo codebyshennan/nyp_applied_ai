{
 "cells": [
  {
   "cell_type": "markdown",
   "id": "4e35c934",
   "metadata": {},
   "source": [
    "# Cardiovascular Disease Prediction (45m)\n",
    "\n",
    "## P/S: Please do not delete your output/result when you submit your python file\n",
    "\n",
    "The World Health Organization (WHO) estimates that 17.9 million people die every year because of cardiovascular diseases (CVDs).\n",
    "\n",
    "There are multiple risk factors that could contribute to CVD in an individual such as unhealthy diet, lack of physical activity or mental illnesses. Being able to identify these risk factors in individuals early on could help prevent a lot of premature deaths.\n",
    "\n",
    "In this assignment, we will build a Logistic Regression and K-Neareast Neighbor classifier to predict the likelihood of a patient having a cardiovascular disease in the future. "
   ]
  },
  {
   "cell_type": "code",
   "execution_count": 28,
   "id": "c7cb0f57",
   "metadata": {},
   "outputs": [
    {
     "name": "stdout",
     "output_type": "stream",
     "text": [
      "Note: you may need to restart the kernel to use updated packages.\n"
     ]
    }
   ],
   "source": [
    "%pip -qq install pandas seaborn matplotlib numpy lazypredict sklearn IPython lightgbm imbalanced-learn sweetviz"
   ]
  },
  {
   "cell_type": "code",
   "execution_count": 29,
   "id": "7a6956c6",
   "metadata": {},
   "outputs": [],
   "source": [
    "# linear algebra\n",
    "import numpy as np \n",
    "\n",
    "# data processing\n",
    "import pandas as pd\n",
    "pd.options.mode.chained_assignment = None  # default='warn'\n",
    "\n",
    "# sampling\n",
    "from imblearn.over_sampling import SMOTE\n",
    "\n",
    "# data visualization\n",
    "import seaborn as sns\n",
    "%matplotlib inline\n",
    "from matplotlib import pyplot as plt\n",
    "from matplotlib import style\n",
    "import sweetviz as sv\n",
    "\n",
    "# sql\n",
    "import sqlite3 as sql"
   ]
  },
  {
   "cell_type": "code",
   "execution_count": 30,
   "id": "096b5b8d",
   "metadata": {},
   "outputs": [],
   "source": [
    "# data transformation\n",
    "from sklearn.compose import ColumnTransformer\n",
    "from sklearn.preprocessing import OneHotEncoder, StandardScaler, OrdinalEncoder\n",
    "\n",
    "# model and data selection\n",
    "from sklearn.experimental import enable_halving_search_cv  # noqa\n",
    "from sklearn.model_selection import (\n",
    "    GridSearchCV,\n",
    "    HalvingGridSearchCV,\n",
    "    StratifiedKFold,\n",
    "    train_test_split,\n",
    ")\n",
    "\n",
    "# models\n",
    "from sklearn.linear_model import LogisticRegression\n",
    "from sklearn.tree import DecisionTreeClassifier\n",
    "from sklearn.neighbors import KNeighborsClassifier\n",
    "\n",
    "# preprocessing\n",
    "from sklearn.metrics import (\n",
    "    accuracy_score,\n",
    "    f1_score,\n",
    "    precision_score,\n",
    "    recall_score,\n",
    "    roc_auc_score,\n",
    "    confusion_matrix,\n",
    "    roc_curve,\n",
    "    classification_report,\n",
    ")"
   ]
  },
  {
   "cell_type": "markdown",
   "id": "6089c814",
   "metadata": {},
   "source": [
    "## Dataset Explaination\n",
    "\n",
    "Eeach patient has the following information collected about them:\n",
    "\n",
    "\n",
    "1. `Age`: age of the patient [years]\n",
    "2. `Sex`: sex of the patient [M: Male, F: Female]\n",
    "3. `ChestPainType`: chest pain type [TA: Typical Angina, ATA: Atypical Angina, NAP: Non-Anginal Pain, ASY: Asymptomatic]\n",
    "4. `RestingBP`: resting blood pressure [mm Hg]\n",
    "5. `Cholesterol`: serum cholesterol [mm/dl]\n",
    "6. `FastingBS`: fasting blood sugar [1: if FastingBS > 120 mg/dl, 0: otherwise]\n",
    "7. `RestingECG`: resting electrocardiogram results [Normal: Normal, ST: having ST-T wave abnormality (T wave inversions and/or ST elevation or depression of > 0.05 mV), LVH: showing probable or definite left ventricular hypertrophy by Estes' criteria]\n",
    "8. `MaxHR`: maximum heart rate achieved [Numeric value between 60 and 202]\n",
    "9. `ExerciseAngina`: exercise-induced angina [Y: Yes, N: No]\n",
    "10. `Oldpeak`: oldpeak = ST [Numeric value measured in depression]\n",
    "11. `ST_Slope`: the slope of the peak exercise ST segment [Up: upsloping, Flat: flat, Down: downsloping]\n",
    "12. `HeartDisease`: output class [1: heart disease, 0: Normal]"
   ]
  },
  {
   "cell_type": "markdown",
   "id": "5e04cebf",
   "metadata": {},
   "source": [
    "## Load in the dataset and exploration"
   ]
  },
  {
   "cell_type": "markdown",
   "id": "9433ec5a",
   "metadata": {},
   "source": [
    "Q1: Load dataset (0.5m)"
   ]
  },
  {
   "cell_type": "code",
   "execution_count": 31,
   "id": "d12aa5ff",
   "metadata": {},
   "outputs": [],
   "source": [
    "df = pd.read_csv(\"./heart_disease_prediction.csv\")"
   ]
  },
  {
   "cell_type": "markdown",
   "id": "9dd80e41",
   "metadata": {},
   "source": [
    "Q2: Print out the first 5 rows of the dataset (0.5m)"
   ]
  },
  {
   "cell_type": "code",
   "execution_count": 32,
   "id": "bc74cce6",
   "metadata": {},
   "outputs": [
    {
     "data": {
      "text/html": [
       "<div>\n",
       "<style scoped>\n",
       "    .dataframe tbody tr th:only-of-type {\n",
       "        vertical-align: middle;\n",
       "    }\n",
       "\n",
       "    .dataframe tbody tr th {\n",
       "        vertical-align: top;\n",
       "    }\n",
       "\n",
       "    .dataframe thead th {\n",
       "        text-align: right;\n",
       "    }\n",
       "</style>\n",
       "<table border=\"1\" class=\"dataframe\">\n",
       "  <thead>\n",
       "    <tr style=\"text-align: right;\">\n",
       "      <th></th>\n",
       "      <th>Age</th>\n",
       "      <th>Sex</th>\n",
       "      <th>ChestPainType</th>\n",
       "      <th>RestingBP</th>\n",
       "      <th>Cholesterol</th>\n",
       "      <th>FastingBS</th>\n",
       "      <th>RestingECG</th>\n",
       "      <th>MaxHR</th>\n",
       "      <th>ExerciseAngina</th>\n",
       "      <th>Oldpeak</th>\n",
       "      <th>ST_Slope</th>\n",
       "      <th>HeartDisease</th>\n",
       "    </tr>\n",
       "  </thead>\n",
       "  <tbody>\n",
       "    <tr>\n",
       "      <th>0</th>\n",
       "      <td>40</td>\n",
       "      <td>M</td>\n",
       "      <td>ATA</td>\n",
       "      <td>140</td>\n",
       "      <td>289</td>\n",
       "      <td>0</td>\n",
       "      <td>Normal</td>\n",
       "      <td>172</td>\n",
       "      <td>N</td>\n",
       "      <td>0.0</td>\n",
       "      <td>Up</td>\n",
       "      <td>0</td>\n",
       "    </tr>\n",
       "    <tr>\n",
       "      <th>1</th>\n",
       "      <td>49</td>\n",
       "      <td>F</td>\n",
       "      <td>NAP</td>\n",
       "      <td>160</td>\n",
       "      <td>180</td>\n",
       "      <td>0</td>\n",
       "      <td>Normal</td>\n",
       "      <td>156</td>\n",
       "      <td>N</td>\n",
       "      <td>1.0</td>\n",
       "      <td>Flat</td>\n",
       "      <td>1</td>\n",
       "    </tr>\n",
       "    <tr>\n",
       "      <th>2</th>\n",
       "      <td>37</td>\n",
       "      <td>M</td>\n",
       "      <td>ATA</td>\n",
       "      <td>130</td>\n",
       "      <td>283</td>\n",
       "      <td>0</td>\n",
       "      <td>ST</td>\n",
       "      <td>98</td>\n",
       "      <td>N</td>\n",
       "      <td>0.0</td>\n",
       "      <td>Up</td>\n",
       "      <td>0</td>\n",
       "    </tr>\n",
       "    <tr>\n",
       "      <th>3</th>\n",
       "      <td>48</td>\n",
       "      <td>F</td>\n",
       "      <td>ASY</td>\n",
       "      <td>138</td>\n",
       "      <td>214</td>\n",
       "      <td>0</td>\n",
       "      <td>Normal</td>\n",
       "      <td>108</td>\n",
       "      <td>Y</td>\n",
       "      <td>1.5</td>\n",
       "      <td>Flat</td>\n",
       "      <td>1</td>\n",
       "    </tr>\n",
       "    <tr>\n",
       "      <th>4</th>\n",
       "      <td>54</td>\n",
       "      <td>M</td>\n",
       "      <td>NAP</td>\n",
       "      <td>150</td>\n",
       "      <td>195</td>\n",
       "      <td>0</td>\n",
       "      <td>Normal</td>\n",
       "      <td>122</td>\n",
       "      <td>N</td>\n",
       "      <td>0.0</td>\n",
       "      <td>Up</td>\n",
       "      <td>0</td>\n",
       "    </tr>\n",
       "  </tbody>\n",
       "</table>\n",
       "</div>"
      ],
      "text/plain": [
       "   Age Sex ChestPainType  RestingBP  Cholesterol  FastingBS RestingECG  MaxHR  \\\n",
       "0   40   M           ATA        140          289          0     Normal    172   \n",
       "1   49   F           NAP        160          180          0     Normal    156   \n",
       "2   37   M           ATA        130          283          0         ST     98   \n",
       "3   48   F           ASY        138          214          0     Normal    108   \n",
       "4   54   M           NAP        150          195          0     Normal    122   \n",
       "\n",
       "  ExerciseAngina  Oldpeak ST_Slope  HeartDisease  \n",
       "0              N      0.0       Up             0  \n",
       "1              N      1.0     Flat             1  \n",
       "2              N      0.0       Up             0  \n",
       "3              Y      1.5     Flat             1  \n",
       "4              N      0.0       Up             0  "
      ]
     },
     "execution_count": 32,
     "metadata": {},
     "output_type": "execute_result"
    }
   ],
   "source": [
    "df.head(5)"
   ]
  },
  {
   "cell_type": "markdown",
   "id": "aa860ecd",
   "metadata": {},
   "source": [
    "Q3: Please find the datatype for each column. Please print out the result. (1m)"
   ]
  },
  {
   "cell_type": "code",
   "execution_count": 33,
   "id": "344a302b",
   "metadata": {},
   "outputs": [
    {
     "data": {
      "text/plain": [
       "Age                 int64\n",
       "Sex                object\n",
       "ChestPainType      object\n",
       "RestingBP           int64\n",
       "Cholesterol         int64\n",
       "FastingBS           int64\n",
       "RestingECG         object\n",
       "MaxHR               int64\n",
       "ExerciseAngina     object\n",
       "Oldpeak           float64\n",
       "ST_Slope           object\n",
       "HeartDisease        int64\n",
       "dtype: object"
      ]
     },
     "execution_count": 33,
     "metadata": {},
     "output_type": "execute_result"
    }
   ],
   "source": [
    "df.dtypes"
   ]
  },
  {
   "cell_type": "markdown",
   "id": "41c90f2b",
   "metadata": {},
   "source": [
    "Q4: How many features are categorical? How many features are numerical? (1m)\n",
    "\n",
    "Ans:\n",
    "Categorical features are typically represented by object data type in pandas, while numerical features can have various data types such as int64, float64, etc.\n",
    "\n",
    "Looking at the provided data types:\n",
    "\n",
    "Categorical Features:\n",
    "\n",
    "- Sex (object)\n",
    "- ChestPainType (object)\n",
    "- RestingECG (object)\n",
    "- ExerciseAngina (object)\n",
    "- ST_Slope (object)\n",
    "\n",
    "Numerical Features:\n",
    "\n",
    "- Age (int64)\n",
    "- RestingBP (int64)\n",
    "- Cholesterol (int64)\n",
    "- FastingBS (int64)\n",
    "- MaxHR (int64)\n",
    "- Oldpeak (float64)\n",
    "- HeartDisease (int64)\n",
    "\n",
    "So, there are 5 categorical features and 7 numerical features in the given DataFrame."
   ]
  },
  {
   "cell_type": "markdown",
   "id": "9a1bfcd5",
   "metadata": {},
   "source": [
    "Q5: Could you print out some basic statistical details like percentile, mean, std, etc.describe the for all the numerical variable? (1m)\n"
   ]
  },
  {
   "cell_type": "code",
   "execution_count": 34,
   "id": "8d954641",
   "metadata": {},
   "outputs": [],
   "source": [
    "numerical_features = ['Age', 'RestingBP', 'Cholesterol', 'FastingBS', 'MaxHR', 'Oldpeak', 'HeartDisease']\n",
    "categorical_features = ['Sex', 'ChestPainType', 'RestingECG', 'ExerciseAngina', 'ST_Slope']\n",
    "\n",
    "numerical_df = df[numerical_features].copy()\n",
    "categorical_df = df[categorical_features].copy()"
   ]
  },
  {
   "cell_type": "code",
   "execution_count": 35,
   "id": "1bd0d2c0",
   "metadata": {},
   "outputs": [
    {
     "data": {
      "text/html": [
       "<div>\n",
       "<style scoped>\n",
       "    .dataframe tbody tr th:only-of-type {\n",
       "        vertical-align: middle;\n",
       "    }\n",
       "\n",
       "    .dataframe tbody tr th {\n",
       "        vertical-align: top;\n",
       "    }\n",
       "\n",
       "    .dataframe thead th {\n",
       "        text-align: right;\n",
       "    }\n",
       "</style>\n",
       "<table border=\"1\" class=\"dataframe\">\n",
       "  <thead>\n",
       "    <tr style=\"text-align: right;\">\n",
       "      <th></th>\n",
       "      <th>Age</th>\n",
       "      <th>RestingBP</th>\n",
       "      <th>Cholesterol</th>\n",
       "      <th>FastingBS</th>\n",
       "      <th>MaxHR</th>\n",
       "      <th>Oldpeak</th>\n",
       "      <th>HeartDisease</th>\n",
       "    </tr>\n",
       "  </thead>\n",
       "  <tbody>\n",
       "    <tr>\n",
       "      <th>count</th>\n",
       "      <td>918.000000</td>\n",
       "      <td>918.000000</td>\n",
       "      <td>918.000000</td>\n",
       "      <td>918.000000</td>\n",
       "      <td>918.000000</td>\n",
       "      <td>918.000000</td>\n",
       "      <td>918.000000</td>\n",
       "    </tr>\n",
       "    <tr>\n",
       "      <th>mean</th>\n",
       "      <td>53.510893</td>\n",
       "      <td>132.396514</td>\n",
       "      <td>198.799564</td>\n",
       "      <td>0.233115</td>\n",
       "      <td>136.809368</td>\n",
       "      <td>0.887364</td>\n",
       "      <td>0.553377</td>\n",
       "    </tr>\n",
       "    <tr>\n",
       "      <th>std</th>\n",
       "      <td>9.432617</td>\n",
       "      <td>18.514154</td>\n",
       "      <td>109.384145</td>\n",
       "      <td>0.423046</td>\n",
       "      <td>25.460334</td>\n",
       "      <td>1.066570</td>\n",
       "      <td>0.497414</td>\n",
       "    </tr>\n",
       "    <tr>\n",
       "      <th>min</th>\n",
       "      <td>28.000000</td>\n",
       "      <td>0.000000</td>\n",
       "      <td>0.000000</td>\n",
       "      <td>0.000000</td>\n",
       "      <td>60.000000</td>\n",
       "      <td>-2.600000</td>\n",
       "      <td>0.000000</td>\n",
       "    </tr>\n",
       "    <tr>\n",
       "      <th>25%</th>\n",
       "      <td>47.000000</td>\n",
       "      <td>120.000000</td>\n",
       "      <td>173.250000</td>\n",
       "      <td>0.000000</td>\n",
       "      <td>120.000000</td>\n",
       "      <td>0.000000</td>\n",
       "      <td>0.000000</td>\n",
       "    </tr>\n",
       "    <tr>\n",
       "      <th>50%</th>\n",
       "      <td>54.000000</td>\n",
       "      <td>130.000000</td>\n",
       "      <td>223.000000</td>\n",
       "      <td>0.000000</td>\n",
       "      <td>138.000000</td>\n",
       "      <td>0.600000</td>\n",
       "      <td>1.000000</td>\n",
       "    </tr>\n",
       "    <tr>\n",
       "      <th>75%</th>\n",
       "      <td>60.000000</td>\n",
       "      <td>140.000000</td>\n",
       "      <td>267.000000</td>\n",
       "      <td>0.000000</td>\n",
       "      <td>156.000000</td>\n",
       "      <td>1.500000</td>\n",
       "      <td>1.000000</td>\n",
       "    </tr>\n",
       "    <tr>\n",
       "      <th>max</th>\n",
       "      <td>77.000000</td>\n",
       "      <td>200.000000</td>\n",
       "      <td>603.000000</td>\n",
       "      <td>1.000000</td>\n",
       "      <td>202.000000</td>\n",
       "      <td>6.200000</td>\n",
       "      <td>1.000000</td>\n",
       "    </tr>\n",
       "  </tbody>\n",
       "</table>\n",
       "</div>"
      ],
      "text/plain": [
       "              Age   RestingBP  Cholesterol   FastingBS       MaxHR  \\\n",
       "count  918.000000  918.000000   918.000000  918.000000  918.000000   \n",
       "mean    53.510893  132.396514   198.799564    0.233115  136.809368   \n",
       "std      9.432617   18.514154   109.384145    0.423046   25.460334   \n",
       "min     28.000000    0.000000     0.000000    0.000000   60.000000   \n",
       "25%     47.000000  120.000000   173.250000    0.000000  120.000000   \n",
       "50%     54.000000  130.000000   223.000000    0.000000  138.000000   \n",
       "75%     60.000000  140.000000   267.000000    0.000000  156.000000   \n",
       "max     77.000000  200.000000   603.000000    1.000000  202.000000   \n",
       "\n",
       "          Oldpeak  HeartDisease  \n",
       "count  918.000000    918.000000  \n",
       "mean     0.887364      0.553377  \n",
       "std      1.066570      0.497414  \n",
       "min     -2.600000      0.000000  \n",
       "25%      0.000000      0.000000  \n",
       "50%      0.600000      1.000000  \n",
       "75%      1.500000      1.000000  \n",
       "max      6.200000      1.000000  "
      ]
     },
     "execution_count": 35,
     "metadata": {},
     "output_type": "execute_result"
    }
   ],
   "source": [
    "numerical_df.describe()"
   ]
  },
  {
   "cell_type": "markdown",
   "id": "320a28cb",
   "metadata": {},
   "source": [
    "Q6: What do you observe from the statistical details above? Please include at least 2 points. (2m)\n",
    "\n",
    "Ans: "
   ]
  },
  {
   "cell_type": "markdown",
   "id": "aa8f6a09",
   "metadata": {},
   "source": [
    "Q7: Could you print out some basic statistical details for all the categorical variable? (1m)"
   ]
  },
  {
   "cell_type": "code",
   "execution_count": 36,
   "id": "304a72e7",
   "metadata": {},
   "outputs": [
    {
     "data": {
      "text/html": [
       "<div>\n",
       "<style scoped>\n",
       "    .dataframe tbody tr th:only-of-type {\n",
       "        vertical-align: middle;\n",
       "    }\n",
       "\n",
       "    .dataframe tbody tr th {\n",
       "        vertical-align: top;\n",
       "    }\n",
       "\n",
       "    .dataframe thead th {\n",
       "        text-align: right;\n",
       "    }\n",
       "</style>\n",
       "<table border=\"1\" class=\"dataframe\">\n",
       "  <thead>\n",
       "    <tr style=\"text-align: right;\">\n",
       "      <th></th>\n",
       "      <th>Sex</th>\n",
       "      <th>ChestPainType</th>\n",
       "      <th>RestingECG</th>\n",
       "      <th>ExerciseAngina</th>\n",
       "      <th>ST_Slope</th>\n",
       "    </tr>\n",
       "  </thead>\n",
       "  <tbody>\n",
       "    <tr>\n",
       "      <th>count</th>\n",
       "      <td>918</td>\n",
       "      <td>918</td>\n",
       "      <td>918</td>\n",
       "      <td>918</td>\n",
       "      <td>918</td>\n",
       "    </tr>\n",
       "    <tr>\n",
       "      <th>unique</th>\n",
       "      <td>2</td>\n",
       "      <td>4</td>\n",
       "      <td>3</td>\n",
       "      <td>2</td>\n",
       "      <td>3</td>\n",
       "    </tr>\n",
       "    <tr>\n",
       "      <th>top</th>\n",
       "      <td>M</td>\n",
       "      <td>ASY</td>\n",
       "      <td>Normal</td>\n",
       "      <td>N</td>\n",
       "      <td>Flat</td>\n",
       "    </tr>\n",
       "    <tr>\n",
       "      <th>freq</th>\n",
       "      <td>725</td>\n",
       "      <td>496</td>\n",
       "      <td>552</td>\n",
       "      <td>547</td>\n",
       "      <td>460</td>\n",
       "    </tr>\n",
       "  </tbody>\n",
       "</table>\n",
       "</div>"
      ],
      "text/plain": [
       "        Sex ChestPainType RestingECG ExerciseAngina ST_Slope\n",
       "count   918           918        918            918      918\n",
       "unique    2             4          3              2        3\n",
       "top       M           ASY     Normal              N     Flat\n",
       "freq    725           496        552            547      460"
      ]
     },
     "execution_count": 36,
     "metadata": {},
     "output_type": "execute_result"
    }
   ],
   "source": [
    "categorical_df.describe()"
   ]
  },
  {
   "cell_type": "markdown",
   "id": "adf29b93",
   "metadata": {},
   "source": [
    "Q8: Is there any numerical that should belong to categorical and categorical belong to numerical? If yes, please include here. (1m)\n",
    "\n",
    "Ans: `HeartDisease` and `FastingBS` (numerical) should be placed in categorical since the inputs are 1 or 0 (binary)"
   ]
  },
  {
   "cell_type": "code",
   "execution_count": 37,
   "id": "99fc3fcd",
   "metadata": {},
   "outputs": [
    {
     "name": "stdout",
     "output_type": "stream",
     "text": [
      "     HeartDisease  FastingBS\n",
      "0               0          0\n",
      "1               1          0\n",
      "2               0          0\n",
      "3               1          0\n",
      "4               0          0\n",
      "..            ...        ...\n",
      "913             1          0\n",
      "914             1          1\n",
      "915             1          0\n",
      "916             1          0\n",
      "917             0          0\n",
      "\n",
      "[918 rows x 2 columns]\n"
     ]
    }
   ],
   "source": [
    "print(df[['HeartDisease','FastingBS']])\n",
    "numerical_features = ['Age', 'RestingBP', 'Cholesterol', 'MaxHR', 'Oldpeak']\n",
    "categorical_features = ['FastingBS', 'HeartDisease', 'Sex', 'ChestPainType', 'RestingECG', 'ExerciseAngina', 'ST_Slope']\n",
    "\n",
    "numerical_df = df[numerical_features].copy()\n",
    "categorical_df = df[categorical_features].copy()"
   ]
  },
  {
   "cell_type": "markdown",
   "id": "36432901",
   "metadata": {},
   "source": [
    "Q9: Is there any missing data? (1m)\n",
    "\n",
    "Ans: No, there is no missing data."
   ]
  },
  {
   "cell_type": "code",
   "execution_count": 38,
   "id": "5c436572",
   "metadata": {},
   "outputs": [
    {
     "data": {
      "text/plain": [
       "Age               0\n",
       "Sex               0\n",
       "ChestPainType     0\n",
       "RestingBP         0\n",
       "Cholesterol       0\n",
       "FastingBS         0\n",
       "RestingECG        0\n",
       "MaxHR             0\n",
       "ExerciseAngina    0\n",
       "Oldpeak           0\n",
       "ST_Slope          0\n",
       "HeartDisease      0\n",
       "dtype: int64"
      ]
     },
     "execution_count": 38,
     "metadata": {},
     "output_type": "execute_result"
    }
   ],
   "source": [
    "# Please type your code here\n",
    "df.isnull().sum()"
   ]
  },
  {
   "cell_type": "markdown",
   "id": "79253815",
   "metadata": {},
   "source": [
    "Q10: Please plot out all the bar graph for all the categorical dataset. (2m)"
   ]
  },
  {
   "cell_type": "code",
   "execution_count": 39,
   "id": "5af0a32f",
   "metadata": {},
   "outputs": [
    {
     "data": {
      "image/png": "[encoded data removed]",
      "text/plain": [
       "<Figure size 1500x1500 with 7 Axes>"
      ]
     },
     "metadata": {},
     "output_type": "display_data"
    }
   ],
   "source": [
    "num_features = len(categorical_features)\n",
    "num_plots_per_row = 3\n",
    "num_rows = (num_features + num_plots_per_row - 1) // num_plots_per_row\n",
    "\n",
    "fig, axs = plt.subplots(num_rows, num_plots_per_row, figsize=(15, 5 * num_rows))\n",
    "\n",
    "for i, feature in enumerate(categorical_features):\n",
    "    row = i // num_plots_per_row\n",
    "    col = i % num_plots_per_row\n",
    "\n",
    "    # Count the occurrences of each category\n",
    "    category_counts = df[feature].value_counts()\n",
    "\n",
    "    # Create a bar plot\n",
    "    ax = axs[row, col]\n",
    "    ax.bar(category_counts.index, category_counts.values)\n",
    "    ax.set_xlabel(feature)\n",
    "    ax.set_ylabel('Count')\n",
    "    ax.set_title(f'Bar Plot of {feature}')\n",
    "\n",
    "    # Add counts at the top of the bars\n",
    "    for j, count in enumerate(category_counts.values):\n",
    "        ax.text(j, count, str(count), ha='center', va='bottom')\n",
    "\n",
    "# Hide empty subplots if any\n",
    "if num_features < (num_rows * num_plots_per_row):\n",
    "    for i in range(num_features, num_rows * num_plots_per_row):\n",
    "        fig.delaxes(axs.flatten()[i])\n",
    "\n",
    "plt.tight_layout()\n",
    "plt.show()"
   ]
  },
  {
   "cell_type": "markdown",
   "id": "b5f970a0",
   "metadata": {},
   "source": [
    "Q11: Is there any finding that you can spot from the bar graph above? Please include at least 2 points (2m)\n",
    "\n",
    "Ans:\n"
   ]
  },
  {
   "cell_type": "markdown",
   "id": "2d97efb3",
   "metadata": {},
   "source": [
    "Q12: Improve the figure above by grouping them with `HeartDisease`. (2m)"
   ]
  },
  {
   "cell_type": "code",
   "execution_count": 41,
   "id": "a5f28e00",
   "metadata": {},
   "outputs": [
    {
     "data": {
      "image/png": "[encoded data removed]",
      "text/plain": [
       "<Figure size 1500x1000 with 6 Axes>"
      ]
     },
     "metadata": {},
     "output_type": "display_data"
    }
   ],
   "source": [
    "grouping_feature = 'HeartDisease'\n",
    "categorical_features.remove(grouping_feature)\n",
    "num_features = len(categorical_features)\n",
    "num_plots_per_row = 3\n",
    "num_rows = (num_features + num_plots_per_row - 1) // num_plots_per_row\n",
    "\n",
    "fig, axs = plt.subplots(num_rows, num_plots_per_row, figsize=(15, 5 * num_rows))\n",
    "\n",
    "\n",
    "for i, feature in enumerate(categorical_features):\n",
    "    row = i // num_plots_per_row\n",
    "    col = i % num_plots_per_row\n",
    "\n",
    "    # Group by 'HeartDisease' and count the occurrences of each category\n",
    "    category_counts = df.groupby([grouping_feature, feature]).size().unstack()\n",
    "\n",
    "    # Create a stacked bar plot for each category\n",
    "    category_counts.plot(kind='bar', stacked=True, ax=axs[row, col])\n",
    "\n",
    "    axs[row, col].set_xlabel(feature)\n",
    "    axs[row, col].set_ylabel('Count')\n",
    "    axs[row, col].set_title(f'Bar Plot of {feature}')\n",
    "\n",
    "    # Add legend\n",
    "    axs[row, col].legend(title=grouping_feature)\n",
    "\n",
    "# Hide empty subplots if any\n",
    "if num_features < (num_rows * num_plots_per_row):\n",
    "    for i in range(num_features, num_rows * num_plots_per_row):\n",
    "        fig.delaxes(axs.flatten()[i])\n",
    "\n",
    "plt.tight_layout()\n",
    "plt.show()"
   ]
  },
  {
   "cell_type": "markdown",
   "id": "0b44da4c",
   "metadata": {},
   "source": [
    "Q13: Is there any finding that you can observe from the bar graph with `HeartDisease` grouping above? Please include at least 2 points (2m)\n",
    "\n",
    "Ans:"
   ]
  },
  {
   "cell_type": "markdown",
   "id": "9bb5c3c5",
   "metadata": {},
   "source": [
    "## Data Cleaning\n"
   ]
  },
  {
   "cell_type": "markdown",
   "id": "4e4a8d48",
   "metadata": {},
   "source": [
    "Q14: Please clean the data and include your explanation. (3m)\n",
    "\n",
    "Hints: Just look at the missing data/NaN/zero data at the moment.\n",
    "\n",
    "Ans: \n"
   ]
  },
  {
   "cell_type": "code",
   "execution_count": 49,
   "id": "d3e00cb0",
   "metadata": {},
   "outputs": [
    {
     "data": {
      "text/plain": [
       "Age               0\n",
       "Sex               0\n",
       "ChestPainType     0\n",
       "RestingBP         0\n",
       "Cholesterol       0\n",
       "FastingBS         0\n",
       "RestingECG        0\n",
       "MaxHR             0\n",
       "ExerciseAngina    0\n",
       "Oldpeak           0\n",
       "ST_Slope          0\n",
       "HeartDisease      0\n",
       "dtype: int64"
      ]
     },
     "execution_count": 49,
     "metadata": {},
     "output_type": "execute_result"
    }
   ],
   "source": [
    "df.isnull().sum()"
   ]
  },
  {
   "cell_type": "code",
   "execution_count": 48,
   "id": "3ad28327",
   "metadata": {
    "scrolled": true
   },
   "outputs": [
    {
     "name": "stdout",
     "output_type": "stream",
     "text": [
      "{'Age': array([40, 49, 37, 48, 54, 39, 45, 58, 42, 38, 43, 60, 36, 44, 53, 52, 51,\n",
      "       56, 41, 32, 65, 35, 59, 50, 47, 31, 46, 57, 55, 63, 66, 34, 33, 61,\n",
      "       29, 62, 28, 30, 74, 68, 72, 64, 69, 67, 73, 70, 77, 75, 76, 71]), 'Sex': array(['M', 'F'], dtype=object), 'ChestPainType': array(['ATA', 'NAP', 'ASY', 'TA'], dtype=object), 'RestingBP': array([140, 160, 130, 138, 150, 120, 110, 136, 115, 100, 124, 113, 125,\n",
      "       145, 112, 132, 118, 170, 142, 190, 135, 180, 108, 155, 128, 106,\n",
      "        92, 200, 122,  98, 105, 133,  95,  80, 137, 185, 165, 126, 152,\n",
      "       116,   0, 144, 154, 134, 104, 139, 131, 141, 178, 146, 158, 123,\n",
      "       102,  96, 143, 172, 156, 114, 127, 101, 174,  94, 148, 117, 192,\n",
      "       129, 164]), 'Cholesterol': array([289, 180, 283, 214, 195, 339, 237, 208, 207, 284, 211, 164, 204,\n",
      "       234, 273, 196, 201, 248, 267, 223, 184, 288, 215, 209, 260, 468,\n",
      "       188, 518, 167, 224, 172, 186, 254, 306, 250, 177, 227, 230, 294,\n",
      "       264, 259, 175, 318, 216, 340, 233, 205, 245, 194, 270, 213, 365,\n",
      "       342, 253, 277, 202, 297, 225, 246, 412, 265, 182, 218, 268, 163,\n",
      "       529, 100, 206, 238, 139, 263, 291, 229, 307, 210, 329, 147,  85,\n",
      "       269, 275, 179, 392, 466, 129, 241, 255, 276, 282, 338, 160, 156,\n",
      "       272, 240, 393, 161, 228, 292, 388, 166, 247, 331, 341, 243, 279,\n",
      "       198, 249, 168, 603, 159, 190, 185, 290, 212, 231, 222, 235, 320,\n",
      "       187, 266, 287, 404, 312, 251, 328, 285, 280, 192, 193, 308, 219,\n",
      "       257, 132, 226, 217, 303, 298, 256, 117, 295, 173, 315, 281, 309,\n",
      "       200, 336, 355, 326, 171, 491, 271, 274, 394, 221, 126, 305, 220,\n",
      "       242, 347, 344, 358, 169, 181,   0, 236, 203, 153, 316, 311, 252,\n",
      "       458, 384, 258, 349, 142, 197, 113, 261, 310, 232, 110, 123, 170,\n",
      "       369, 152, 244, 165, 337, 300, 333, 385, 322, 564, 239, 293, 407,\n",
      "       149, 199, 417, 178, 319, 354, 330, 302, 313, 141, 327, 304, 286,\n",
      "       360, 262, 325, 299, 409, 174, 183, 321, 353, 335, 278, 157, 176,\n",
      "       131]), 'FastingBS': array([0, 1]), 'RestingECG': array(['Normal', 'ST', 'LVH'], dtype=object), 'MaxHR': array([172, 156,  98, 108, 122, 170, 142, 130, 120,  99, 145, 140, 137,\n",
      "       150, 166, 165, 125, 160, 164, 138, 178, 112, 118, 127, 114, 154,\n",
      "       155,  87, 148, 100, 168, 184, 121, 153, 134,  96, 174, 175, 144,\n",
      "        82, 135, 115, 128, 116,  94, 110,  92, 180, 152, 124, 106, 185,\n",
      "       139, 190, 146, 158, 132, 176, 119, 188, 162, 105,  90, 136, 167,\n",
      "       129, 102, 143, 103,  91, 126,  93, 131, 149, 123, 182, 141,  77,\n",
      "       109, 133, 179, 113, 104,  95,  72,  97, 117,  86,  63, 157,  83,\n",
      "        60,  70, 163,  67,  78,  84, 111,  80, 107, 161,  69,  88,  73,\n",
      "       159, 151, 181, 186, 177, 173, 169, 171, 147,  71, 192, 195, 194,\n",
      "       187, 202]), 'ExerciseAngina': array(['N', 'Y'], dtype=object), 'Oldpeak': array([ 0. ,  1. ,  1.5,  2. ,  3. ,  4. ,  0.5,  2.5,  5. ,  0.8,  0.7,\n",
      "        1.4,  2.1,  0.4,  0.2,  1.7,  2.2,  0.1,  1.6,  1.3,  0.3,  1.8,\n",
      "        2.6, -0.9,  2.8, -2.6, -1.5, -0.1,  0.9,  1.1,  2.4, -1. , -1.1,\n",
      "       -0.7, -0.8,  3.7,  1.2, -0.5, -2. ,  1.9,  3.5,  0.6,  3.1,  2.3,\n",
      "        3.4,  3.6,  4.2,  3.2,  5.6,  3.8,  2.9,  6.2,  4.4]), 'ST_Slope': array(['Up', 'Flat', 'Down'], dtype=object), 'HeartDisease': array([0, 1])}\n"
     ]
    }
   ],
   "source": [
    "unique_values = {}\n",
    "\n",
    "# Iterate over each column in the DataFrame\n",
    "for column in df.columns:\n",
    "    # Get the unique values of the column\n",
    "    column_unique_values = df[column].unique()\n",
    "    # Store the unique values in the dictionary\n",
    "    unique_values[column] = column_unique_values\n",
    "    \n",
    "print(unique_values)"
   ]
  },
  {
   "cell_type": "code",
   "execution_count": 55,
   "id": "86c128d9",
   "metadata": {},
   "outputs": [
    {
     "data": {
      "text/html": [
       "<div>\n",
       "<style scoped>\n",
       "    .dataframe tbody tr th:only-of-type {\n",
       "        vertical-align: middle;\n",
       "    }\n",
       "\n",
       "    .dataframe tbody tr th {\n",
       "        vertical-align: top;\n",
       "    }\n",
       "\n",
       "    .dataframe thead th {\n",
       "        text-align: right;\n",
       "    }\n",
       "</style>\n",
       "<table border=\"1\" class=\"dataframe\">\n",
       "  <thead>\n",
       "    <tr style=\"text-align: right;\">\n",
       "      <th></th>\n",
       "      <th>Cholesterol</th>\n",
       "    </tr>\n",
       "  </thead>\n",
       "  <tbody>\n",
       "    <tr>\n",
       "      <th>count</th>\n",
       "      <td>918.000000</td>\n",
       "    </tr>\n",
       "    <tr>\n",
       "      <th>mean</th>\n",
       "      <td>198.799564</td>\n",
       "    </tr>\n",
       "    <tr>\n",
       "      <th>std</th>\n",
       "      <td>109.384145</td>\n",
       "    </tr>\n",
       "    <tr>\n",
       "      <th>min</th>\n",
       "      <td>0.000000</td>\n",
       "    </tr>\n",
       "    <tr>\n",
       "      <th>25%</th>\n",
       "      <td>173.250000</td>\n",
       "    </tr>\n",
       "    <tr>\n",
       "      <th>50%</th>\n",
       "      <td>223.000000</td>\n",
       "    </tr>\n",
       "    <tr>\n",
       "      <th>75%</th>\n",
       "      <td>267.000000</td>\n",
       "    </tr>\n",
       "    <tr>\n",
       "      <th>max</th>\n",
       "      <td>603.000000</td>\n",
       "    </tr>\n",
       "  </tbody>\n",
       "</table>\n",
       "</div>"
      ],
      "text/plain": [
       "       Cholesterol\n",
       "count   918.000000\n",
       "mean    198.799564\n",
       "std     109.384145\n",
       "min       0.000000\n",
       "25%     173.250000\n",
       "50%     223.000000\n",
       "75%     267.000000\n",
       "max     603.000000"
      ]
     },
     "execution_count": 55,
     "metadata": {},
     "output_type": "execute_result"
    }
   ],
   "source": [
    "# cholesterol shld not have non-zero values\n",
    "cleaned_df = df[df['Cholesterol'] != 0].copy()\n",
    "df[['Cholesterol']].describe()"
   ]
  },
  {
   "cell_type": "code",
   "execution_count": 54,
   "id": "6408d9a3",
   "metadata": {},
   "outputs": [
    {
     "data": {
      "text/html": [
       "<div>\n",
       "<style scoped>\n",
       "    .dataframe tbody tr th:only-of-type {\n",
       "        vertical-align: middle;\n",
       "    }\n",
       "\n",
       "    .dataframe tbody tr th {\n",
       "        vertical-align: top;\n",
       "    }\n",
       "\n",
       "    .dataframe thead th {\n",
       "        text-align: right;\n",
       "    }\n",
       "</style>\n",
       "<table border=\"1\" class=\"dataframe\">\n",
       "  <thead>\n",
       "    <tr style=\"text-align: right;\">\n",
       "      <th></th>\n",
       "      <th>Cholesterol</th>\n",
       "    </tr>\n",
       "  </thead>\n",
       "  <tbody>\n",
       "    <tr>\n",
       "      <th>count</th>\n",
       "      <td>746.000000</td>\n",
       "    </tr>\n",
       "    <tr>\n",
       "      <th>mean</th>\n",
       "      <td>244.635389</td>\n",
       "    </tr>\n",
       "    <tr>\n",
       "      <th>std</th>\n",
       "      <td>59.153524</td>\n",
       "    </tr>\n",
       "    <tr>\n",
       "      <th>min</th>\n",
       "      <td>85.000000</td>\n",
       "    </tr>\n",
       "    <tr>\n",
       "      <th>25%</th>\n",
       "      <td>207.250000</td>\n",
       "    </tr>\n",
       "    <tr>\n",
       "      <th>50%</th>\n",
       "      <td>237.000000</td>\n",
       "    </tr>\n",
       "    <tr>\n",
       "      <th>75%</th>\n",
       "      <td>275.000000</td>\n",
       "    </tr>\n",
       "    <tr>\n",
       "      <th>max</th>\n",
       "      <td>603.000000</td>\n",
       "    </tr>\n",
       "  </tbody>\n",
       "</table>\n",
       "</div>"
      ],
      "text/plain": [
       "       Cholesterol\n",
       "count   746.000000\n",
       "mean    244.635389\n",
       "std      59.153524\n",
       "min      85.000000\n",
       "25%     207.250000\n",
       "50%     237.000000\n",
       "75%     275.000000\n",
       "max     603.000000"
      ]
     },
     "execution_count": 54,
     "metadata": {},
     "output_type": "execute_result"
    }
   ],
   "source": [
    "# Please describe the data that you cleaned here.\n",
    "\n",
    "# Hints: Use .describe()\n",
    "cleaned_df[['Cholesterol']].describe()\n",
    "#df_clean[[xxxx]].describe()"
   ]
  },
  {
   "cell_type": "markdown",
   "id": "0d4ea844",
   "metadata": {},
   "source": [
    "total count drop, mean increase, std reduce."
   ]
  },
  {
   "cell_type": "markdown",
   "id": "2c71332d",
   "metadata": {},
   "source": [
    "## Feature Selection\n",
    "\n"
   ]
  },
  {
   "cell_type": "markdown",
   "id": "97ccf85c",
   "metadata": {},
   "source": [
    "Q15: Find the correlation of all the variable. Please plot the heatmap graph for the correlation value. (2m)\n",
    "\n"
   ]
  },
  {
   "cell_type": "code",
   "execution_count": 62,
   "id": "22078213",
   "metadata": {},
   "outputs": [
    {
     "name": "stderr",
     "output_type": "stream",
     "text": [
      "/var/folders/y8/y4g0kj191llc7dncy9w1r1qr0000gn/T/ipykernel_94681/3332648415.py:3: FutureWarning: The default value of numeric_only in DataFrame.corr is deprecated. In a future version, it will default to False. Select only valid columns or specify the value of numeric_only to silence this warning.\n",
      "  correlation_matrix = df_filtered.corr()\n"
     ]
    },
    {
     "data": {
      "image/png": "[encoded data removed]",
      "text/plain": [
       "<Figure size 640x480 with 2 Axes>"
      ]
     },
     "metadata": {},
     "output_type": "display_data"
    }
   ],
   "source": [
    "# Calculate the correlation matrix\n",
    "df_filtered = df.drop('HeartDisease', axis=1)\n",
    "correlation_matrix = df_filtered.corr()\n",
    "\n",
    "# Plot the correlation heatmap\n",
    "sns.heatmap(correlation_matrix, annot=True, cmap='coolwarm')\n",
    "plt.title('Correlation Heatmap')\n",
    "plt.show()"
   ]
  },
  {
   "cell_type": "markdown",
   "id": "d8ae87be",
   "metadata": {},
   "source": [
    "Q16: Perform feature selection. Please provide your justification. (1m)"
   ]
  },
  {
   "cell_type": "markdown",
   "id": "b6eb8175",
   "metadata": {},
   "source": [
    "Identify highly correlated features: Look for pairs of features that have a strong positive or negative correlation. These pairs indicate potential multicollinearity, where one feature may provide redundant information compared to the other. Based on your domain knowledge and the specific requirements of your analysis, you can determine a correlation threshold above which features should be considered for selection.\n",
    "\n",
    "Perform feature selection: There are several techniques you can use for feature selection based on correlation:\n",
    "\n",
    "a. Manual selection: If you have a small number of features or specific knowledge about the problem domain, you can manually choose the features based on their correlation with the target variable or the degree of redundancy between features.\n",
    "\n",
    "b. Threshold-based selection: Set a correlation threshold and select features with correlation coefficients above or below that threshold. This approach helps eliminate highly correlated features to reduce redundancy.\n",
    "\n",
    "c. Automated methods: Various automated feature selection methods can leverage correlation coefficients as part of their selection process. For example, you can use techniques like Recursive Feature Elimination (RFE), SelectKBest, or SelectFromModel from scikit-learn to perform feature selection based on correlation along with other criteria like statistical tests or machine learning models."
   ]
  },
  {
   "cell_type": "code",
   "execution_count": 14,
   "id": "fbd10db2",
   "metadata": {},
   "outputs": [],
   "source": [
    "# please type your code here"
   ]
  },
  {
   "cell_type": "markdown",
   "id": "143bf6f0",
   "metadata": {},
   "source": [
    "## Building a Classifier with One Feature"
   ]
  },
  {
   "cell_type": "markdown",
   "id": "494c8f51",
   "metadata": {},
   "source": [
    "Q17: Split the data into training and test using ratio 80:20. (2m)"
   ]
  },
  {
   "cell_type": "code",
   "execution_count": 65,
   "id": "6b14956b",
   "metadata": {},
   "outputs": [],
   "source": [
    "# Please type your code here\n",
    "# Separate the features and target variable\n",
    "X = df.drop('HeartDisease', axis=1)\n",
    "y = df['HeartDisease']\n",
    "\n",
    "# Split the data into training and testing sets\n",
    "X_train, X_test, y_train, y_test = train_test_split(X, y, test_size=0.2, random_state=42)"
   ]
  },
  {
   "cell_type": "markdown",
   "id": "6318fe2b",
   "metadata": {},
   "source": [
    "Q18: From the features that you selected in previos step. Let run a logistic regression model and calculate the accuracy for each of the feature. (2m)"
   ]
  },
  {
   "cell_type": "code",
   "execution_count": 66,
   "id": "6ddcfc26",
   "metadata": {},
   "outputs": [
    {
     "ename": "ValueError",
     "evalue": "could not convert string to float: 'M'",
     "output_type": "error",
     "traceback": [
      "\u001b[0;31m---------------------------------------------------------------------------\u001b[0m",
      "\u001b[0;31mValueError\u001b[0m                                Traceback (most recent call last)",
      "\u001b[0;32m/var/folders/y8/y4g0kj191llc7dncy9w1r1qr0000gn/T/ipykernel_94681/3339869334.py\u001b[0m in \u001b[0;36m?\u001b[0;34m()\u001b[0m\n\u001b[1;32m      7\u001b[0m     \u001b[0;31m# Create a logistic regression model\u001b[0m\u001b[0;34m\u001b[0m\u001b[0;34m\u001b[0m\u001b[0m\n\u001b[1;32m      8\u001b[0m     \u001b[0mmodel\u001b[0m \u001b[0;34m=\u001b[0m \u001b[0mLogisticRegression\u001b[0m\u001b[0;34m(\u001b[0m\u001b[0;34m)\u001b[0m\u001b[0;34m\u001b[0m\u001b[0;34m\u001b[0m\u001b[0m\n\u001b[1;32m      9\u001b[0m \u001b[0;34m\u001b[0m\u001b[0m\n\u001b[1;32m     10\u001b[0m     \u001b[0;31m# Fit the model using the current feature\u001b[0m\u001b[0;34m\u001b[0m\u001b[0;34m\u001b[0m\u001b[0m\n\u001b[0;32m---> 11\u001b[0;31m     \u001b[0mmodel\u001b[0m\u001b[0;34m.\u001b[0m\u001b[0mfit\u001b[0m\u001b[0;34m(\u001b[0m\u001b[0mX_train\u001b[0m\u001b[0;34m[\u001b[0m\u001b[0;34m[\u001b[0m\u001b[0mfeature\u001b[0m\u001b[0;34m]\u001b[0m\u001b[0;34m]\u001b[0m\u001b[0;34m,\u001b[0m \u001b[0my_train\u001b[0m\u001b[0;34m)\u001b[0m\u001b[0;34m\u001b[0m\u001b[0;34m\u001b[0m\u001b[0m\n\u001b[0m\u001b[1;32m     12\u001b[0m \u001b[0;34m\u001b[0m\u001b[0m\n\u001b[1;32m     13\u001b[0m     \u001b[0;31m# Predict on the test set\u001b[0m\u001b[0;34m\u001b[0m\u001b[0;34m\u001b[0m\u001b[0m\n\u001b[1;32m     14\u001b[0m     \u001b[0my_pred\u001b[0m \u001b[0;34m=\u001b[0m \u001b[0mmodel\u001b[0m\u001b[0;34m.\u001b[0m\u001b[0mpredict\u001b[0m\u001b[0;34m(\u001b[0m\u001b[0mX_test\u001b[0m\u001b[0;34m[\u001b[0m\u001b[0;34m[\u001b[0m\u001b[0mfeature\u001b[0m\u001b[0;34m]\u001b[0m\u001b[0;34m]\u001b[0m\u001b[0;34m)\u001b[0m\u001b[0;34m\u001b[0m\u001b[0;34m\u001b[0m\u001b[0m\n",
      "\u001b[0;32m/opt/homebrew/lib/python3.11/site-packages/sklearn/linear_model/_logistic.py\u001b[0m in \u001b[0;36m?\u001b[0;34m(self, X, y, sample_weight)\u001b[0m\n\u001b[1;32m   1192\u001b[0m             \u001b[0m_dtype\u001b[0m \u001b[0;34m=\u001b[0m \u001b[0mnp\u001b[0m\u001b[0;34m.\u001b[0m\u001b[0mfloat64\u001b[0m\u001b[0;34m\u001b[0m\u001b[0;34m\u001b[0m\u001b[0m\n\u001b[1;32m   1193\u001b[0m         \u001b[0;32melse\u001b[0m\u001b[0;34m:\u001b[0m\u001b[0;34m\u001b[0m\u001b[0;34m\u001b[0m\u001b[0m\n\u001b[1;32m   1194\u001b[0m             \u001b[0m_dtype\u001b[0m \u001b[0;34m=\u001b[0m \u001b[0;34m[\u001b[0m\u001b[0mnp\u001b[0m\u001b[0;34m.\u001b[0m\u001b[0mfloat64\u001b[0m\u001b[0;34m,\u001b[0m \u001b[0mnp\u001b[0m\u001b[0;34m.\u001b[0m\u001b[0mfloat32\u001b[0m\u001b[0;34m]\u001b[0m\u001b[0;34m\u001b[0m\u001b[0;34m\u001b[0m\u001b[0m\n\u001b[1;32m   1195\u001b[0m \u001b[0;34m\u001b[0m\u001b[0m\n\u001b[0;32m-> 1196\u001b[0;31m         X, y = self._validate_data(\n\u001b[0m\u001b[1;32m   1197\u001b[0m             \u001b[0mX\u001b[0m\u001b[0;34m,\u001b[0m\u001b[0;34m\u001b[0m\u001b[0;34m\u001b[0m\u001b[0m\n\u001b[1;32m   1198\u001b[0m             \u001b[0my\u001b[0m\u001b[0;34m,\u001b[0m\u001b[0;34m\u001b[0m\u001b[0;34m\u001b[0m\u001b[0m\n\u001b[1;32m   1199\u001b[0m             \u001b[0maccept_sparse\u001b[0m\u001b[0;34m=\u001b[0m\u001b[0;34m\"csr\"\u001b[0m\u001b[0;34m,\u001b[0m\u001b[0;34m\u001b[0m\u001b[0;34m\u001b[0m\u001b[0m\n",
      "\u001b[0;32m/opt/homebrew/lib/python3.11/site-packages/sklearn/base.py\u001b[0m in \u001b[0;36m?\u001b[0;34m(self, X, y, reset, validate_separately, **check_params)\u001b[0m\n\u001b[1;32m    580\u001b[0m                 \u001b[0;32mif\u001b[0m \u001b[0;34m\"estimator\"\u001b[0m \u001b[0;32mnot\u001b[0m \u001b[0;32min\u001b[0m \u001b[0mcheck_y_params\u001b[0m\u001b[0;34m:\u001b[0m\u001b[0;34m\u001b[0m\u001b[0;34m\u001b[0m\u001b[0m\n\u001b[1;32m    581\u001b[0m                     \u001b[0mcheck_y_params\u001b[0m \u001b[0;34m=\u001b[0m \u001b[0;34m{\u001b[0m\u001b[0;34m**\u001b[0m\u001b[0mdefault_check_params\u001b[0m\u001b[0;34m,\u001b[0m \u001b[0;34m**\u001b[0m\u001b[0mcheck_y_params\u001b[0m\u001b[0;34m}\u001b[0m\u001b[0;34m\u001b[0m\u001b[0;34m\u001b[0m\u001b[0m\n\u001b[1;32m    582\u001b[0m                 \u001b[0my\u001b[0m \u001b[0;34m=\u001b[0m \u001b[0mcheck_array\u001b[0m\u001b[0;34m(\u001b[0m\u001b[0my\u001b[0m\u001b[0;34m,\u001b[0m \u001b[0minput_name\u001b[0m\u001b[0;34m=\u001b[0m\u001b[0;34m\"y\"\u001b[0m\u001b[0;34m,\u001b[0m \u001b[0;34m**\u001b[0m\u001b[0mcheck_y_params\u001b[0m\u001b[0;34m)\u001b[0m\u001b[0;34m\u001b[0m\u001b[0;34m\u001b[0m\u001b[0m\n\u001b[1;32m    583\u001b[0m             \u001b[0;32melse\u001b[0m\u001b[0;34m:\u001b[0m\u001b[0;34m\u001b[0m\u001b[0;34m\u001b[0m\u001b[0m\n\u001b[0;32m--> 584\u001b[0;31m                 \u001b[0mX\u001b[0m\u001b[0;34m,\u001b[0m \u001b[0my\u001b[0m \u001b[0;34m=\u001b[0m \u001b[0mcheck_X_y\u001b[0m\u001b[0;34m(\u001b[0m\u001b[0mX\u001b[0m\u001b[0;34m,\u001b[0m \u001b[0my\u001b[0m\u001b[0;34m,\u001b[0m \u001b[0;34m**\u001b[0m\u001b[0mcheck_params\u001b[0m\u001b[0;34m)\u001b[0m\u001b[0;34m\u001b[0m\u001b[0;34m\u001b[0m\u001b[0m\n\u001b[0m\u001b[1;32m    585\u001b[0m             \u001b[0mout\u001b[0m \u001b[0;34m=\u001b[0m \u001b[0mX\u001b[0m\u001b[0;34m,\u001b[0m \u001b[0my\u001b[0m\u001b[0;34m\u001b[0m\u001b[0;34m\u001b[0m\u001b[0m\n\u001b[1;32m    586\u001b[0m \u001b[0;34m\u001b[0m\u001b[0m\n\u001b[1;32m    587\u001b[0m         \u001b[0;32mif\u001b[0m \u001b[0;32mnot\u001b[0m \u001b[0mno_val_X\u001b[0m \u001b[0;32mand\u001b[0m \u001b[0mcheck_params\u001b[0m\u001b[0;34m.\u001b[0m\u001b[0mget\u001b[0m\u001b[0;34m(\u001b[0m\u001b[0;34m\"ensure_2d\"\u001b[0m\u001b[0;34m,\u001b[0m \u001b[0;32mTrue\u001b[0m\u001b[0;34m)\u001b[0m\u001b[0;34m:\u001b[0m\u001b[0;34m\u001b[0m\u001b[0;34m\u001b[0m\u001b[0m\n",
      "\u001b[0;32m/opt/homebrew/lib/python3.11/site-packages/sklearn/utils/validation.py\u001b[0m in \u001b[0;36m?\u001b[0;34m(X, y, accept_sparse, accept_large_sparse, dtype, order, copy, force_all_finite, ensure_2d, allow_nd, multi_output, ensure_min_samples, ensure_min_features, y_numeric, estimator)\u001b[0m\n\u001b[1;32m   1102\u001b[0m         raise ValueError(\n\u001b[1;32m   1103\u001b[0m             \u001b[0;34mf\"{estimator_name} requires y to be passed, but the target y is None\"\u001b[0m\u001b[0;34m\u001b[0m\u001b[0;34m\u001b[0m\u001b[0m\n\u001b[1;32m   1104\u001b[0m         )\n\u001b[1;32m   1105\u001b[0m \u001b[0;34m\u001b[0m\u001b[0m\n\u001b[0;32m-> 1106\u001b[0;31m     X = check_array(\n\u001b[0m\u001b[1;32m   1107\u001b[0m         \u001b[0mX\u001b[0m\u001b[0;34m,\u001b[0m\u001b[0;34m\u001b[0m\u001b[0;34m\u001b[0m\u001b[0m\n\u001b[1;32m   1108\u001b[0m         \u001b[0maccept_sparse\u001b[0m\u001b[0;34m=\u001b[0m\u001b[0maccept_sparse\u001b[0m\u001b[0;34m,\u001b[0m\u001b[0;34m\u001b[0m\u001b[0;34m\u001b[0m\u001b[0m\n\u001b[1;32m   1109\u001b[0m         \u001b[0maccept_large_sparse\u001b[0m\u001b[0;34m=\u001b[0m\u001b[0maccept_large_sparse\u001b[0m\u001b[0;34m,\u001b[0m\u001b[0;34m\u001b[0m\u001b[0;34m\u001b[0m\u001b[0m\n",
      "\u001b[0;32m/opt/homebrew/lib/python3.11/site-packages/sklearn/utils/validation.py\u001b[0m in \u001b[0;36m?\u001b[0;34m(array, accept_sparse, accept_large_sparse, dtype, order, copy, force_all_finite, ensure_2d, allow_nd, ensure_min_samples, ensure_min_features, estimator, input_name)\u001b[0m\n\u001b[1;32m    876\u001b[0m                         )\n\u001b[1;32m    877\u001b[0m                     \u001b[0marray\u001b[0m \u001b[0;34m=\u001b[0m \u001b[0mxp\u001b[0m\u001b[0;34m.\u001b[0m\u001b[0mastype\u001b[0m\u001b[0;34m(\u001b[0m\u001b[0marray\u001b[0m\u001b[0;34m,\u001b[0m \u001b[0mdtype\u001b[0m\u001b[0;34m,\u001b[0m \u001b[0mcopy\u001b[0m\u001b[0;34m=\u001b[0m\u001b[0;32mFalse\u001b[0m\u001b[0;34m)\u001b[0m\u001b[0;34m\u001b[0m\u001b[0;34m\u001b[0m\u001b[0m\n\u001b[1;32m    878\u001b[0m                 \u001b[0;32melse\u001b[0m\u001b[0;34m:\u001b[0m\u001b[0;34m\u001b[0m\u001b[0;34m\u001b[0m\u001b[0m\n\u001b[1;32m    879\u001b[0m                     \u001b[0marray\u001b[0m \u001b[0;34m=\u001b[0m \u001b[0m_asarray_with_order\u001b[0m\u001b[0;34m(\u001b[0m\u001b[0marray\u001b[0m\u001b[0;34m,\u001b[0m \u001b[0morder\u001b[0m\u001b[0;34m=\u001b[0m\u001b[0morder\u001b[0m\u001b[0;34m,\u001b[0m \u001b[0mdtype\u001b[0m\u001b[0;34m=\u001b[0m\u001b[0mdtype\u001b[0m\u001b[0;34m,\u001b[0m \u001b[0mxp\u001b[0m\u001b[0;34m=\u001b[0m\u001b[0mxp\u001b[0m\u001b[0;34m)\u001b[0m\u001b[0;34m\u001b[0m\u001b[0;34m\u001b[0m\u001b[0m\n\u001b[0;32m--> 880\u001b[0;31m             \u001b[0;32mexcept\u001b[0m \u001b[0mComplexWarning\u001b[0m \u001b[0;32mas\u001b[0m \u001b[0mcomplex_warning\u001b[0m\u001b[0;34m:\u001b[0m\u001b[0;34m\u001b[0m\u001b[0;34m\u001b[0m\u001b[0m\n\u001b[0m\u001b[1;32m    881\u001b[0m                 raise ValueError(\n\u001b[1;32m    882\u001b[0m                     \u001b[0;34m\"Complex data not supported\\n{}\\n\"\u001b[0m\u001b[0;34m.\u001b[0m\u001b[0mformat\u001b[0m\u001b[0;34m(\u001b[0m\u001b[0marray\u001b[0m\u001b[0;34m)\u001b[0m\u001b[0;34m\u001b[0m\u001b[0;34m\u001b[0m\u001b[0m\n\u001b[1;32m    883\u001b[0m                 ) from complex_warning\n",
      "\u001b[0;32m/opt/homebrew/lib/python3.11/site-packages/sklearn/utils/_array_api.py\u001b[0m in \u001b[0;36m?\u001b[0;34m(array, dtype, order, copy, xp)\u001b[0m\n\u001b[1;32m    181\u001b[0m     \u001b[0;32mif\u001b[0m \u001b[0mxp\u001b[0m \u001b[0;32mis\u001b[0m \u001b[0;32mNone\u001b[0m\u001b[0;34m:\u001b[0m\u001b[0;34m\u001b[0m\u001b[0;34m\u001b[0m\u001b[0m\n\u001b[1;32m    182\u001b[0m         \u001b[0mxp\u001b[0m\u001b[0;34m,\u001b[0m \u001b[0m_\u001b[0m \u001b[0;34m=\u001b[0m \u001b[0mget_namespace\u001b[0m\u001b[0;34m(\u001b[0m\u001b[0marray\u001b[0m\u001b[0;34m)\u001b[0m\u001b[0;34m\u001b[0m\u001b[0;34m\u001b[0m\u001b[0m\n\u001b[1;32m    183\u001b[0m     \u001b[0;32mif\u001b[0m \u001b[0mxp\u001b[0m\u001b[0;34m.\u001b[0m\u001b[0m__name__\u001b[0m \u001b[0;32min\u001b[0m \u001b[0;34m{\u001b[0m\u001b[0;34m\"numpy\"\u001b[0m\u001b[0;34m,\u001b[0m \u001b[0;34m\"numpy.array_api\"\u001b[0m\u001b[0;34m}\u001b[0m\u001b[0;34m:\u001b[0m\u001b[0;34m\u001b[0m\u001b[0;34m\u001b[0m\u001b[0m\n\u001b[1;32m    184\u001b[0m         \u001b[0;31m# Use NumPy API to support order\u001b[0m\u001b[0;34m\u001b[0m\u001b[0;34m\u001b[0m\u001b[0m\n\u001b[0;32m--> 185\u001b[0;31m         \u001b[0marray\u001b[0m \u001b[0;34m=\u001b[0m \u001b[0mnumpy\u001b[0m\u001b[0;34m.\u001b[0m\u001b[0masarray\u001b[0m\u001b[0;34m(\u001b[0m\u001b[0marray\u001b[0m\u001b[0;34m,\u001b[0m \u001b[0morder\u001b[0m\u001b[0;34m=\u001b[0m\u001b[0morder\u001b[0m\u001b[0;34m,\u001b[0m \u001b[0mdtype\u001b[0m\u001b[0;34m=\u001b[0m\u001b[0mdtype\u001b[0m\u001b[0;34m)\u001b[0m\u001b[0;34m\u001b[0m\u001b[0;34m\u001b[0m\u001b[0m\n\u001b[0m\u001b[1;32m    186\u001b[0m         \u001b[0;32mreturn\u001b[0m \u001b[0mxp\u001b[0m\u001b[0;34m.\u001b[0m\u001b[0masarray\u001b[0m\u001b[0;34m(\u001b[0m\u001b[0marray\u001b[0m\u001b[0;34m,\u001b[0m \u001b[0mcopy\u001b[0m\u001b[0;34m=\u001b[0m\u001b[0mcopy\u001b[0m\u001b[0;34m)\u001b[0m\u001b[0;34m\u001b[0m\u001b[0;34m\u001b[0m\u001b[0m\n\u001b[1;32m    187\u001b[0m     \u001b[0;32melse\u001b[0m\u001b[0;34m:\u001b[0m\u001b[0;34m\u001b[0m\u001b[0;34m\u001b[0m\u001b[0m\n\u001b[1;32m    188\u001b[0m         \u001b[0;32mreturn\u001b[0m \u001b[0mxp\u001b[0m\u001b[0;34m.\u001b[0m\u001b[0masarray\u001b[0m\u001b[0;34m(\u001b[0m\u001b[0marray\u001b[0m\u001b[0;34m,\u001b[0m \u001b[0mdtype\u001b[0m\u001b[0;34m=\u001b[0m\u001b[0mdtype\u001b[0m\u001b[0;34m,\u001b[0m \u001b[0mcopy\u001b[0m\u001b[0;34m=\u001b[0m\u001b[0mcopy\u001b[0m\u001b[0;34m)\u001b[0m\u001b[0;34m\u001b[0m\u001b[0;34m\u001b[0m\u001b[0m\n",
      "\u001b[0;32m/opt/homebrew/lib/python3.11/site-packages/pandas/core/generic.py\u001b[0m in \u001b[0;36m?\u001b[0;34m(self, dtype)\u001b[0m\n\u001b[1;32m   2069\u001b[0m     \u001b[0;32mdef\u001b[0m \u001b[0m__array__\u001b[0m\u001b[0;34m(\u001b[0m\u001b[0mself\u001b[0m\u001b[0;34m,\u001b[0m \u001b[0mdtype\u001b[0m\u001b[0;34m:\u001b[0m \u001b[0mnpt\u001b[0m\u001b[0;34m.\u001b[0m\u001b[0mDTypeLike\u001b[0m \u001b[0;34m|\u001b[0m \u001b[0;32mNone\u001b[0m \u001b[0;34m=\u001b[0m \u001b[0;32mNone\u001b[0m\u001b[0;34m)\u001b[0m \u001b[0;34m->\u001b[0m \u001b[0mnp\u001b[0m\u001b[0;34m.\u001b[0m\u001b[0mndarray\u001b[0m\u001b[0;34m:\u001b[0m\u001b[0;34m\u001b[0m\u001b[0;34m\u001b[0m\u001b[0m\n\u001b[0;32m-> 2070\u001b[0;31m         \u001b[0;32mreturn\u001b[0m \u001b[0mnp\u001b[0m\u001b[0;34m.\u001b[0m\u001b[0masarray\u001b[0m\u001b[0;34m(\u001b[0m\u001b[0mself\u001b[0m\u001b[0;34m.\u001b[0m\u001b[0m_values\u001b[0m\u001b[0;34m,\u001b[0m \u001b[0mdtype\u001b[0m\u001b[0;34m=\u001b[0m\u001b[0mdtype\u001b[0m\u001b[0;34m)\u001b[0m\u001b[0;34m\u001b[0m\u001b[0;34m\u001b[0m\u001b[0m\n\u001b[0m",
      "\u001b[0;31mValueError\u001b[0m: could not convert string to float: 'M'"
     ]
    }
   ],
   "source": [
    "# Please type your code here\n",
    "# Create an empty dictionary to store the accuracy for each feature\n",
    "feature_accuracies = {}\n",
    "\n",
    "# Iterate over each feature and calculate accuracy using logistic regression\n",
    "for feature in X_train.columns:\n",
    "    # Create a logistic regression model\n",
    "    model = LogisticRegression()\n",
    "    \n",
    "    # Fit the model using the current feature\n",
    "    model.fit(X_train[[feature]], y_train)\n",
    "    \n",
    "    # Predict on the test set\n",
    "    y_pred = model.predict(X_test[[feature]])\n",
    "    \n",
    "    # Calculate accuracy\n",
    "    accuracy = accuracy_score(y_test, y_pred)\n",
    "    \n",
    "    # Store the accuracy for the current feature\n",
    "    feature_accuracies[feature] = accuracy\n",
    "\n",
    "# Sort the feature accuracies in descending order\n",
    "sorted_accuracies = sorted(feature_accuracies.items(), key=lambda x: x[1], reverse=True)\n",
    "\n",
    "# Display the ranked accuracies\n",
    "for feature, accuracy in sorted_accuracies:\n",
    "    print(f'Feature: {feature}, Accuracy: {accuracy}')"
   ]
  },
  {
   "cell_type": "markdown",
   "id": "e1198863",
   "metadata": {},
   "source": [
    "Q19: Which feature give you best accuracy? Ranking them accordingly.(1m)\n",
    "\n",
    "Ans:\n",
    "\n",
    "\n"
   ]
  },
  {
   "cell_type": "markdown",
   "id": "8cacc6c3",
   "metadata": {},
   "source": [
    "## Building a Classifier with Multiple Features"
   ]
  },
  {
   "cell_type": "markdown",
   "id": "3383efd9",
   "metadata": {},
   "source": [
    "## Logistic Regression"
   ]
  },
  {
   "cell_type": "markdown",
   "id": "7fac8ff2",
   "metadata": {},
   "source": [
    "Q20: Let train the logistic regression classifier with all the features that you selected in the previous step. (1m)"
   ]
  },
  {
   "cell_type": "code",
   "execution_count": 17,
   "id": "202dac1f",
   "metadata": {},
   "outputs": [],
   "source": [
    "# Please type your code here\n"
   ]
  },
  {
   "cell_type": "markdown",
   "id": "2f097e60",
   "metadata": {},
   "source": [
    "Q21: Is the Accuracy better than a single feature? (1m)\n",
    "\n",
    "Ans: "
   ]
  },
  {
   "cell_type": "markdown",
   "id": "a1571317",
   "metadata": {},
   "source": [
    "Q22: Apply scaler with all the features that you selected in the previous step on both train and testing data.  (2m)"
   ]
  },
  {
   "cell_type": "code",
   "execution_count": 18,
   "id": "cbbf5de2",
   "metadata": {},
   "outputs": [],
   "source": [
    "# Please type your code here\n"
   ]
  },
  {
   "cell_type": "markdown",
   "id": "489d27c9",
   "metadata": {},
   "source": [
    "Q23: Let train the logistic regression classifier with all the features that you selected in the previous step after scaling. (1m)"
   ]
  },
  {
   "cell_type": "code",
   "execution_count": 19,
   "id": "e563cf5b",
   "metadata": {},
   "outputs": [],
   "source": [
    "# Please type your code here\n"
   ]
  },
  {
   "cell_type": "markdown",
   "id": "8cf512e4",
   "metadata": {},
   "source": [
    "Q24: Is the Accuracy better after data scaling? Provide your justification. (1m)\n",
    "\n",
    "Ans: "
   ]
  },
  {
   "cell_type": "markdown",
   "id": "2156166f",
   "metadata": {},
   "source": [
    "## K-NN"
   ]
  },
  {
   "cell_type": "markdown",
   "id": "5c891f5a",
   "metadata": {},
   "source": [
    "Q25: Apply KNN with all the features that you selected (without scaler) in the previous step. (1m)"
   ]
  },
  {
   "cell_type": "code",
   "execution_count": 20,
   "id": "29ed549c",
   "metadata": {},
   "outputs": [],
   "source": [
    "# Please type your code here\n"
   ]
  },
  {
   "cell_type": "markdown",
   "id": "3004077d",
   "metadata": {},
   "source": [
    "Q26: Apply KNN with all the features that you selected (with scaler) in the previous step. (1m)"
   ]
  },
  {
   "cell_type": "code",
   "execution_count": 21,
   "id": "5a8c23f4",
   "metadata": {},
   "outputs": [],
   "source": [
    "# Please type your code here\n"
   ]
  },
  {
   "cell_type": "markdown",
   "id": "396b4e00",
   "metadata": {},
   "source": [
    "Q27: KNN: Is the Accuracy better after data scaling? Provide your justification. (1m)\n",
    "\n",
    "Ans: "
   ]
  },
  {
   "cell_type": "markdown",
   "id": "30f4b42d",
   "metadata": {},
   "source": [
    "## Hyperparameter Optimization"
   ]
  },
  {
   "cell_type": "markdown",
   "id": "e0007bf4",
   "metadata": {},
   "source": [
    "Q28: Let try do do a grip search of the Knn from nearest neighbour 1 to 20. (1m)"
   ]
  },
  {
   "cell_type": "code",
   "execution_count": 22,
   "id": "06ed09b3",
   "metadata": {},
   "outputs": [],
   "source": [
    "# Please type your code here\n"
   ]
  },
  {
   "cell_type": "markdown",
   "id": "2d87a1cc",
   "metadata": {},
   "source": [
    "Q29: Which is the best k? What is the accuracy? (1m) Please use this k number for the testing set later.\n",
    "\n",
    "Ans:"
   ]
  },
  {
   "cell_type": "markdown",
   "id": "52c42a3c",
   "metadata": {},
   "source": [
    "## Model Evaluation on Test Set\n",
    "\n",
    "We need to first normalize our test set similar to how we scaled our training set."
   ]
  },
  {
   "cell_type": "markdown",
   "id": "e9001434",
   "metadata": {},
   "source": [
    "Q30: Logistic Regression: Let test the accuracy on the testing set. (1m)"
   ]
  },
  {
   "cell_type": "code",
   "execution_count": 23,
   "id": "2086c66d",
   "metadata": {},
   "outputs": [],
   "source": [
    "# Please type your code here\n"
   ]
  },
  {
   "cell_type": "markdown",
   "id": "58b742a5",
   "metadata": {},
   "source": [
    "Q31: KNN: Let test the accuracy on the testing set. (1m)"
   ]
  },
  {
   "cell_type": "code",
   "execution_count": 24,
   "id": "b74c9190",
   "metadata": {},
   "outputs": [],
   "source": [
    "# Please type your code here\n"
   ]
  },
  {
   "cell_type": "markdown",
   "id": "8aa46b5c",
   "metadata": {},
   "source": [
    "Q32: Which model is better? Logistic Regression or Knn? (1m)\n",
    "\n",
    "Ans: "
   ]
  },
  {
   "cell_type": "markdown",
   "id": "a2c3db18",
   "metadata": {},
   "source": [
    "Q33: Compare the training and testing result. Why the result is different? Which one is higher. Provide the justification. (1m) \n",
    "You might include the necessary coding for your justification."
   ]
  },
  {
   "cell_type": "markdown",
   "id": "bf618cba",
   "metadata": {},
   "source": [
    "Ans:  "
   ]
  },
  {
   "cell_type": "markdown",
   "id": "d676c484",
   "metadata": {},
   "source": [
    "# Summary\n",
    "Q34: Could you give me a summary of your project? You may want to include which features being selected, model, result and etc. (1m)\n",
    "\n",
    "Ans: "
   ]
  },
  {
   "cell_type": "markdown",
   "id": "cc3ebbfd",
   "metadata": {},
   "source": [
    "# Further improvement\n",
    "Q:35 Is there any steps that we could do to further improbe the result? (1m)\n",
    "\n",
    "Ans:"
   ]
  },
  {
   "cell_type": "code",
   "execution_count": null,
   "id": "47876d6e",
   "metadata": {},
   "outputs": [],
   "source": []
  }
 ],
 "metadata": {
  "kernelspec": {
   "display_name": "Python 3 (ipykernel)",
   "language": "python",
   "name": "python3"
  },
  "language_info": {
   "codemirror_mode": {
    "name": "ipython",
    "version": 3
   },
   "file_extension": ".py",
   "mimetype": "text/x-python",
   "name": "python",
   "nbconvert_exporter": "python",
   "pygments_lexer": "ipython3",
   "version": "3.11.3"
  }
 },
 "nbformat": 4,
 "nbformat_minor": 5
}
